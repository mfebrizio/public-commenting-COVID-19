{
 "cells": [
  {
   "cell_type": "markdown",
   "metadata": {},
   "source": [
    "# Public Commenting in a Pandemic"
   ]
  },
  {
   "cell_type": "markdown",
   "metadata": {},
   "source": [
    "## Cleaning & Analysis"
   ]
  },
  {
   "cell_type": "code",
   "execution_count": null,
   "metadata": {},
   "outputs": [],
   "source": [
    "# import packages\n",
    "import pandas as pd\n",
    "import numpy as np\n",
    "import json\n",
    "import time\n",
    "import os\n",
    "import datetime"
   ]
  },
  {
   "cell_type": "code",
   "execution_count": null,
   "metadata": {},
   "outputs": [],
   "source": [
    "# Specify the path of the folder where the data are saved\n",
    "filePath = \"C:/Users/mark/Box Sync/_MF/Assignments/Insights/Public Commenting and COVID-19/Data/Annual/\""
   ]
  },
  {
   "cell_type": "code",
   "execution_count": null,
   "metadata": {},
   "outputs": [],
   "source": []
  },
  {
   "cell_type": "markdown",
   "metadata": {},
   "source": [
    "## 2020: Cleaning"
   ]
  },
  {
   "cell_type": "code",
   "execution_count": null,
   "metadata": {},
   "outputs": [],
   "source": [
    "# load CSV\n",
    "fileName = 'endpoint_documents_PS_2020.csv'\n",
    "with open(filePath+fileName,'r',encoding='utf-8') as loadfile:\n",
    "    df2020 = pd.read_csv(loadfile, index_col='index')\n",
    "df2020.info()"
   ]
  },
  {
   "cell_type": "code",
   "execution_count": null,
   "metadata": {},
   "outputs": [],
   "source": [
    "# shorten/rename number of comments received column\n",
    "df2020 = df2020.rename(columns={'numberOfCommentsReceived': 'commentsReceived'})\n",
    "\n",
    "# create posted count column\n",
    "df2020['commentsPosted'] = 1\n",
    "\n",
    "df2020.loc[:,['commentsPosted','commentsReceived']].query('commentsReceived > 1')"
   ]
  },
  {
   "cell_type": "code",
   "execution_count": null,
   "metadata": {},
   "outputs": [],
   "source": [
    "# create list for documentId's of entries to clean\n",
    "cleaning_list = []\n",
    "type(cleaning_list)"
   ]
  },
  {
   "cell_type": "markdown",
   "metadata": {},
   "source": [
    "### Dates and Months"
   ]
  },
  {
   "cell_type": "code",
   "execution_count": null,
   "metadata": {},
   "outputs": [],
   "source": [
    "# create new columns for year and month\n",
    "df2020['postedYear'] = df2020['postedDate'].str.slice(start=0,stop=4)\n",
    "df2020['postedMonth'] = df2020['postedDate'].str.slice(start=6,stop=7)\n",
    "\n",
    "# convert to integers\n",
    "df2020['postedYear'] = pd.to_numeric(df2020['postedYear'])\n",
    "df2020['postedMonth'] = pd.to_numeric(df2020['postedMonth'])\n",
    "\n",
    "# return new columns\n",
    "print(df2020.loc[:,['postedYear','postedMonth']].dtypes)\n",
    "df2020.loc[:,['postedYear','postedMonth']]"
   ]
  },
  {
   "cell_type": "code",
   "execution_count": null,
   "metadata": {},
   "outputs": [],
   "source": [
    "# created new column with postedDate in datetime format\n",
    "# https://pandas.pydata.org/pandas-docs/stable/reference/api/pandas.to_datetime.html\n",
    "df2020['postedDatetime'] = pd.to_datetime(df2020['postedDate'], utc=True)\n",
    "df2020.loc[:,['postedDate','postedDatetime']]"
   ]
  },
  {
   "cell_type": "code",
   "execution_count": null,
   "metadata": {},
   "outputs": [],
   "source": [
    "# pivot by month\n",
    "by_YearMonth = pd.pivot_table(df2020,values=['commentsPosted','commentsReceived'],\n",
    "                              columns=['postedYear'],\n",
    "                              index=['postedMonth'],\n",
    "                              aggfunc=np.sum, margins=False)\n",
    "\n",
    "by_YearMonth.loc[:,:]"
   ]
  },
  {
   "cell_type": "code",
   "execution_count": null,
   "metadata": {},
   "outputs": [],
   "source": [
    "# query entries with Month == 6\n",
    "queries = df2020.loc[:,['postedMonth','postedDate','documentId']].query('postedMonth == 6')\n",
    "queries"
   ]
  },
  {
   "cell_type": "code",
   "execution_count": null,
   "metadata": {},
   "outputs": [],
   "source": [
    "# add to cleaning list\n",
    "docs_to_add = {'fix_month':\n",
    "             queries.loc[:,'documentId'].tolist()}\n",
    "cleaning_list.append(docs_to_add)\n",
    "print(cleaning_list)"
   ]
  },
  {
   "cell_type": "code",
   "execution_count": null,
   "metadata": {},
   "outputs": [],
   "source": []
  },
  {
   "cell_type": "markdown",
   "metadata": {},
   "source": [
    "### Agency groupings"
   ]
  },
  {
   "cell_type": "code",
   "execution_count": null,
   "metadata": {},
   "outputs": [],
   "source": [
    "by_Agency = pd.pivot_table(df2020,\n",
    "                           values=['commentsPosted','commentsReceived'],\n",
    "                           index=['agencyAcronym'],\n",
    "                           aggfunc=np.sum, margins=False)\n",
    "print(len(by_Agency))\n",
    "by_Agency"
   ]
  },
  {
   "cell_type": "code",
   "execution_count": null,
   "metadata": {},
   "outputs": [],
   "source": [
    "agency_list = by_Agency.index.tolist()\n",
    "print(len(agency_list),'\\n')\n",
    "print(agency_list)"
   ]
  },
  {
   "cell_type": "code",
   "execution_count": null,
   "metadata": {},
   "outputs": [],
   "source": [
    "# create dictionary for Branch to Agency lookups\n",
    "branch_dict = {'Judicial': ['USC'], \n",
    "               'Legislative': ['LOC', 'COLC'], \n",
    "               'Independent': ['AID', 'ATBCB', 'CFPB', 'CNCS', 'CPSC', 'CSB', 'EAC', \n",
    "                               'EEOC', 'FRTIB', 'FTC', 'GSA', 'NARA', 'NCUA', 'NLRB', \n",
    "                               'NRC', 'NTSB', 'OPM', 'PBGC', 'SBA', 'SSA'], \n",
    "               'Executive': ['DHS', 'CISA', 'FEMA', 'TSA', 'USCBP', 'USCG', 'USCIS', \n",
    "                             'DOC', 'BIS', 'ITA', 'NIST', 'NOAA', 'PTO', 'USBC', 'DOD', \n",
    "                             'COE', 'DARS', 'USA', 'USAF', 'DOE', 'EERE', 'DOI', 'BIA', \n",
    "                             'BLM', 'BOR', 'BSEE', 'FWS', 'NPS', 'OSM', 'DOJ', 'BOP', 'DEA', \n",
    "                             'EOIR', 'DOL', 'ETA', 'LMSO', 'MSHA', 'OFCCP', 'OSHA', 'WCPO', \n",
    "                             'DOS', 'DOT', 'FAA', 'FHWA', 'FMCSA', 'FRA', 'FTA', 'MARAD', \n",
    "                             'NHTSA', 'PHMSA', 'ED', 'EOP', 'CEQ', 'OMB', 'USTR', 'EPA', 'FAR', 'HHS', 'ATSDR', 'CDC', 'CMS', 'FDA', 'HHSIG', 'HRSA', 'HUD', 'TREAS', 'FINCEN', 'FISCAL', 'IRS', 'OCC', 'TTB', 'USDA', \n",
    "                             'AMS', 'APHIS', 'CCC', 'FCIC', 'FNS', 'FS', 'FSA', 'FSIS', \n",
    "                             'NRCS', 'RBS', 'RHS', 'RUS', 'VA']\n",
    "              }\n",
    "print(len(branch_dict))\n",
    "print(branch_dict['Independent'])\n",
    "print(len(branch_dict['Judicial']+\n",
    "          branch_dict['Legislative']+\n",
    "          branch_dict['Independent']+\n",
    "          branch_dict['Executive']) - len(['LOC','EOP']))"
   ]
  },
  {
   "cell_type": "code",
   "execution_count": null,
   "metadata": {},
   "outputs": [],
   "source": [
    "%%time\n",
    "\n",
    "# references:\n",
    "    # https://stackoverflow.com/questions/49161120/pandas-python-set-value-of-one-column-based-on-value-in-another-column\n",
    "    # https://stackoverflow.com/questions/30446510/list-of-elements-to-boolean-array\n",
    "\n",
    "# create boolean arrays for each branch\n",
    "bool_jud = [True if item in branch_dict['Judicial'] else False for item in df2020.loc[:,'agencyAcronym'].tolist()]\n",
    "bool_leg = [True if item in branch_dict['Legislative'] else False for item in df2020.loc[:,'agencyAcronym'].tolist()]\n",
    "bool_ind = [True if item in branch_dict['Independent'] else False for item in df2020.loc[:,'agencyAcronym'].tolist()]\n",
    "bool_exe = [True if item in branch_dict['Executive'] else False for item in df2020.loc[:,'agencyAcronym'].tolist()]\n",
    "\n",
    "# create new column for branch\n",
    "df2020['agencyBranch'] = ''\n",
    "\n",
    "# use boolean arrays to fill new column\n",
    "df2020.loc[bool_jud,'agencyBranch'] = 'Judicial'\n",
    "df2020.loc[bool_leg,'agencyBranch'] = 'Legislative'\n",
    "df2020.loc[bool_ind,'agencyBranch'] = 'Independent'\n",
    "df2020.loc[bool_exe,'agencyBranch'] = 'Executive'\n",
    "\n",
    "df2020.loc[:,['agencyAcronym','agencyBranch']]"
   ]
  },
  {
   "cell_type": "code",
   "execution_count": null,
   "metadata": {},
   "outputs": [],
   "source": [
    "# query df by branch\n",
    "df2020.query('agencyBranch == \"\"')"
   ]
  },
  {
   "cell_type": "code",
   "execution_count": null,
   "metadata": {},
   "outputs": [],
   "source": [
    "# query df by multiple branches\n",
    "df2020.query('agencyBranch == \"Legislative\" | agencyBranch == \"Judicial\" ')"
   ]
  },
  {
   "cell_type": "code",
   "execution_count": null,
   "metadata": {},
   "outputs": [],
   "source": [
    "# create dict for Parent Agencies\n",
    "parent_dict = dict(LOC = ['LOC', 'COLC'], \n",
    "                   DHS = ['DHS', 'CISA', 'FEMA', 'TSA', 'USCBP', 'USCG', 'USCIS'],\n",
    "                   DOC = ['DOC', 'BIS', 'ITA', 'NIST', 'NOAA', 'PTO', 'USBC'],\n",
    "                   DOD = ['DOD', 'COE', 'DARS', 'USA', 'USAF'],\n",
    "                   DOE = ['DOE', 'EERE'],\n",
    "                   DOI = ['DOI', 'BIA', 'BLM', 'BOR', 'BSEE', 'FWS', 'NPS', 'OSM'],\n",
    "                   DOJ = ['DOJ', 'BOP', 'DEA', 'EOIR'],\n",
    "                   DOL = ['DOL', 'ETA', 'LMSO', 'MSHA', 'OFCCP', 'OSHA', 'WCPO'],\n",
    "                   DOS = ['DOS'],\n",
    "                   DOT = ['DOT', 'FAA', 'FHWA', 'FMCSA', 'FRA', 'FTA', 'MARAD', 'NHTSA', 'PHMSA'],\n",
    "                   ED = ['ED'],\n",
    "                   EOP = ['EOP', 'CEQ', 'OMB', 'USTR'],\n",
    "                   EPA = ['EPA'],\n",
    "                   FAR = ['FAR'],\n",
    "                   HHS = ['HHS', 'ATSDR', 'CDC', 'CMS', 'FDA', 'HHSIG', 'HRSA'],\n",
    "                   HUD = ['HUD'],\n",
    "                   TREAS = ['TREAS', 'FINCEN', 'FISCAL', 'IRS', 'OCC', 'TTB'],\n",
    "                   USDA = ['USDA', 'AMS', 'APHIS', 'CCC', 'FCIC', 'FNS', 'FS', 'FSA', 'FSIS', 'NRCS', 'RBS', 'RHS', 'RUS'],\n",
    "                   VA = ['VA']\n",
    "                  )\n",
    "\n",
    "x = 1\n",
    "print(list(parent_dict.keys())[x])\n",
    "print(list(parent_dict.values())[x])"
   ]
  },
  {
   "cell_type": "code",
   "execution_count": null,
   "metadata": {},
   "outputs": [],
   "source": [
    "%%time\n",
    "\n",
    "# create new column for parent agency\n",
    "df2020['agencyParent'] = ''\n",
    "\n",
    "# parent==acronym for judicial & independent agencies\n",
    "df2020.loc[bool_jud,'agencyParent'] = df2020.loc[bool_jud,'agencyAcronym']\n",
    "df2020.loc[bool_ind,'agencyParent'] = df2020.loc[bool_ind,'agencyAcronym']\n",
    "\n",
    "# set parent for executive & legislative agencies\n",
    "dictLength = len(parent_dict)\n",
    "listValues = list(parent_dict.values())\n",
    "listKeys = list(parent_dict.keys())\n",
    "\n",
    "for key in range(dictLength):\n",
    "    print(list(parent_dict.keys())[key])\n",
    "    bool_array = [True if item in listValues[key] else False for item in df2020.loc[:,'agencyAcronym'].tolist()]\n",
    "    df2020.loc[bool_array,'agencyParent'] = [listKeys[key] if item in listValues[key] else '' for item in df2020.loc[bool_array,'agencyAcronym'].tolist()]\n",
    "\n",
    "df2020.loc[:,['agencyAcronym','agencyParent','agencyBranch']]"
   ]
  },
  {
   "cell_type": "code",
   "execution_count": null,
   "metadata": {},
   "outputs": [],
   "source": [
    "df2020.loc[:,['agencyAcronym','agencyParent','agencyBranch']].query('agencyParent == \"\"')"
   ]
  },
  {
   "cell_type": "code",
   "execution_count": null,
   "metadata": {},
   "outputs": [],
   "source": [
    "print(len(df2020.query('agencyBranch == \"Independent\"')) + \n",
    "      len(df2020.query('agencyBranch == \"Judicial\"')))"
   ]
  },
  {
   "cell_type": "code",
   "execution_count": null,
   "metadata": {},
   "outputs": [],
   "source": [
    "by_AgencyParent = pd.pivot_table(df2020,\n",
    "                           values=['commentsPosted','commentsReceived'],\n",
    "                           index=['agencyBranch','agencyParent'],\n",
    "                           aggfunc=np.sum, margins=False)\n",
    "print(len(by_AgencyParent))\n",
    "by_AgencyBranch.query('agencyBranch == \"Executive\"')"
   ]
  },
  {
   "cell_type": "code",
   "execution_count": null,
   "metadata": {},
   "outputs": [],
   "source": []
  },
  {
   "cell_type": "code",
   "execution_count": null,
   "metadata": {},
   "outputs": [],
   "source": []
  },
  {
   "cell_type": "code",
   "execution_count": null,
   "metadata": {},
   "outputs": [],
   "source": []
  },
  {
   "cell_type": "markdown",
   "metadata": {},
   "source": [
    "###### break"
   ]
  },
  {
   "cell_type": "code",
   "execution_count": null,
   "metadata": {},
   "outputs": [],
   "source": [
    "lookup = ['documentId','title','organization','attachmentCount','commentsReceived','agencyAcronym']\n",
    "\n",
    "df2020.loc[:,lookup].query('commentsReceived == 1 & agencyAcronym == \"CEQ\"')"
   ]
  },
  {
   "cell_type": "code",
   "execution_count": null,
   "metadata": {},
   "outputs": [],
   "source": []
  },
  {
   "cell_type": "code",
   "execution_count": null,
   "metadata": {},
   "outputs": [],
   "source": []
  },
  {
   "cell_type": "code",
   "execution_count": null,
   "metadata": {},
   "outputs": [],
   "source": []
  },
  {
   "cell_type": "code",
   "execution_count": null,
   "metadata": {
    "scrolled": true
   },
   "outputs": [],
   "source": [
    "by_YearMonth.plot(y='documentCount', kind='bar')"
   ]
  },
  {
   "cell_type": "code",
   "execution_count": null,
   "metadata": {
    "scrolled": true
   },
   "outputs": [],
   "source": [
    "by_MonthAgency = pd.pivot_table(df2020,values=['documentCount','numberOfCommentsReceived'],\n",
    "                                index=['postedMonth','agencyAcronym'],\n",
    "                                aggfunc=np.sum, margins=True)\n",
    "\n",
    "by_MonthAgency.query('agencyAcronym == \"CEQ\"')"
   ]
  },
  {
   "cell_type": "code",
   "execution_count": null,
   "metadata": {},
   "outputs": [],
   "source": []
  },
  {
   "cell_type": "code",
   "execution_count": null,
   "metadata": {},
   "outputs": [],
   "source": []
  },
  {
   "cell_type": "code",
   "execution_count": null,
   "metadata": {},
   "outputs": [],
   "source": []
  },
  {
   "cell_type": "code",
   "execution_count": null,
   "metadata": {},
   "outputs": [],
   "source": []
  }
 ],
 "metadata": {
  "kernelspec": {
   "display_name": "Python 3",
   "language": "python",
   "name": "python3"
  },
  "language_info": {
   "codemirror_mode": {
    "name": "ipython",
    "version": 3
   },
   "file_extension": ".py",
   "mimetype": "text/x-python",
   "name": "python",
   "nbconvert_exporter": "python",
   "pygments_lexer": "ipython3",
   "version": "3.8.3"
  }
 },
 "nbformat": 4,
 "nbformat_minor": 4
}
