{
 "cells": [
  {
   "cell_type": "markdown",
   "metadata": {},
   "source": [
    "# Public Commenting in a Pandemic"
   ]
  },
  {
   "cell_type": "markdown",
   "metadata": {},
   "source": [
    "## Analysis"
   ]
  },
  {
   "cell_type": "code",
   "execution_count": 1,
   "metadata": {},
   "outputs": [],
   "source": [
    "# import packages\n",
    "import pandas as pd\n",
    "import numpy as np\n",
    "import json\n",
    "import ijson\n",
    "import time\n",
    "import os\n",
    "import datetime"
   ]
  },
  {
   "cell_type": "code",
   "execution_count": 2,
   "metadata": {},
   "outputs": [],
   "source": [
    "# Specify the path of the folder where the data are saved\n",
    "filePath = \"C:/Users/mark/Box Sync/_MF/Assignments/Insights/Public Commenting and COVID-19/Data/API/\"\n",
    "savePath = \"C:/Users/mark/Box Sync/_MF/Assignments/Insights/Public Commenting and COVID-19/Data/Annual/\""
   ]
  },
  {
   "cell_type": "code",
   "execution_count": null,
   "metadata": {},
   "outputs": [],
   "source": []
  },
  {
   "cell_type": "markdown",
   "metadata": {},
   "source": [
    "## testing ijson package\n",
    "\n",
    "using 2012 data"
   ]
  },
  {
   "cell_type": "code",
   "execution_count": 82,
   "metadata": {},
   "outputs": [],
   "source": [
    "fileName = 'endpoint_documents_PS_2012Jan01_2012May31.json'"
   ]
  },
  {
   "cell_type": "code",
   "execution_count": 83,
   "metadata": {},
   "outputs": [
    {
     "name": "stdout",
     "output_type": "stream",
     "text": [
      "130500\n",
      "Wall time: 5.33 s\n"
     ]
    }
   ],
   "source": [
    "%%time\n",
    "\n",
    "with open(filePath+fileName, 'r', encoding='utf-8') as jfile:\n",
    "    data2012 = json.load(jfile)\n",
    "print(len(data2012))"
   ]
  },
  {
   "cell_type": "code",
   "execution_count": 84,
   "metadata": {},
   "outputs": [
    {
     "name": "stdout",
     "output_type": "stream",
     "text": [
      "prefix=, event=start_array, value=None\n",
      "prefix=item, event=start_map, value=None\n",
      "prefix=item, event=map_key, value=agencyAcronym\n",
      "prefix=item.agencyAcronym, event=string, value=APHIS\n",
      "prefix=item, event=map_key, value=allowLateComment\n",
      "prefix=item.allowLateComment, event=boolean, value=False\n",
      "prefix=item, event=map_key, value=attachmentCount\n",
      "prefix=item.attachmentCount, event=number, value=0\n",
      "prefix=item, event=map_key, value=commentDueDate\n",
      "prefix=item.commentDueDate, event=string, value=2012-02-27T23:59:59-05:00\n",
      "prefix=item, event=map_key, value=commentStartDate\n",
      "prefix=item.commentStartDate, event=string, value=2011-12-27T00:00:00-05:00\n",
      "prefix=item, event=map_key, value=commentText\n",
      "prefix=item.commentText, event=string, value=Please do not deregulate a genetically engineered variety of corn (DAS-40278-9), that is resistant to 2,4-D, an extremely toxic pesticide that was 50% of the recipe to making Agent Orange.\n",
      "\n",
      "It would result in the unleashing of tens of millions of gallons of toxic pesticide chemicals annually onto America's agricultural landscape (not to mention runoff into rivers, streams, lakes and oceans).\n",
      "\n",
      "prefix=item, event=map_key, value=docketId\n",
      "prefix=item.docketId, event=string, value=APHIS-2010-0103\n",
      "prefix=item, event=map_key, value=docketTitle\n",
      "prefix=item.docketTitle, event=string, value=Dow AgroSciences LLC; Availability of Petition, Plant Pest Risk Assessment, and Environmental Assessment for Determination of Nonregulated Status of Corn Genetically Engineered for Herbicide Tolerance\n",
      "prefix=item, event=map_key, value=docketType\n",
      "prefix=item.docketType, event=string, value=Nonrulemaking\n",
      "prefix=item, event=map_key, value=documentId\n",
      "prefix=item.documentId, event=string, value=APHIS-2010-0103-0075\n",
      "prefix=item, event=map_key, value=documentStatus\n",
      "prefix=item.documentStatus, event=string, value=Posted\n",
      "prefix=item, event=map_key, value=documentType\n",
      "prefix=item.documentType, event=string, value=Public Submission\n",
      "prefix=item, event=map_key, value=numberOfCommentsReceived\n",
      "prefix=item.numberOfCommentsReceived, event=number, value=1\n",
      "prefix=item, event=map_key, value=openForComment\n",
      "prefix=item.openForComment, event=boolean, value=False\n",
      "prefix=item, event=map_key, value=postedDate\n",
      "prefix=item.postedDate, event=string, value=2012-01-01T00:00:00-05:00\n",
      "prefix=item, event=map_key, value=submitterName\n",
      "prefix=item.submitterName, event=string, value=- Coco\n",
      "prefix=item, event=map_key, value=title\n",
      "prefix=item.title, event=string, value=Comment from - Coco\n",
      "prefix=item, event=end_map, value=None\n"
     ]
    }
   ],
   "source": [
    "# first we need to understand the parser output for a single comment\n",
    "# reference: https://pypi.org/project/ijson/#events\n",
    "# example: https://www.aylakhan.tech/?p=27\n",
    "\n",
    "with open(filePath+fileName, 'r', encoding='utf-8') as ijfile:\n",
    "    parser = ijson.parse(ijfile)\n",
    "    for prefix, event, value in parser:\n",
    "        print('prefix={}, event={}, value={}'.format(prefix, event, value))\n",
    "        if event=='end_map':\n",
    "            break"
   ]
  },
  {
   "cell_type": "code",
   "execution_count": 85,
   "metadata": {},
   "outputs": [
    {
     "name": "stdout",
     "output_type": "stream",
     "text": [
      "130500\n",
      "Wall time: 1min 6s\n"
     ]
    }
   ],
   "source": [
    "%%time\n",
    "\n",
    "idata2012 = [] ## object for appending each comment\n",
    "comment_dict = {} ## dictionary for holding a single comment's metadata at a time\n",
    "\n",
    "with open(filePath+fileName, 'r', encoding='utf-8') as ijfile:\n",
    "    parser = ijson.parse(ijfile)\n",
    "    for prefix, event, value in parser:\n",
    "        if prefix=='':\n",
    "            if event=='start_array':\n",
    "                continue\n",
    "            elif event=='end_array':\n",
    "                break\n",
    "            else:\n",
    "                print('check: '+str(prefix))\n",
    "        elif prefix=='item':\n",
    "            if event=='start_map':\n",
    "                continue\n",
    "            elif event=='end_map':\n",
    "                idata2012.append(comment_dict)\n",
    "                comment_dict = {}\n",
    "                continue\n",
    "            elif event=='map_key':\n",
    "                dict_key = value\n",
    "            else:\n",
    "                print('check: '+str(prefix))\n",
    "        else:\n",
    "            comment_dict.update({dict_key: value})\n",
    "\n",
    "print(len(idata2012))"
   ]
  },
  {
   "cell_type": "code",
   "execution_count": 87,
   "metadata": {
    "scrolled": true
   },
   "outputs": [
    {
     "name": "stdout",
     "output_type": "stream",
     "text": [
      "0\n",
      "{'agencyAcronym': 'APHIS', 'allowLateComment': False, 'attachmentCount': 0, 'commentDueDate': '2012-02-27T23:59:59-05:00', 'commentStartDate': '2011-12-27T00:00:00-05:00', 'commentText': \"Please do not deregulate a genetically engineered variety of corn (DAS-40278-9), that is resistant to 2,4-D, an extremely toxic pesticide that was 50% of the recipe to making Agent Orange.\\n\\nIt would result in the unleashing of tens of millions of gallons of toxic pesticide chemicals annually onto America's agricultural landscape (not to mention runoff into rivers, streams, lakes and oceans).\\n\", 'docketId': 'APHIS-2010-0103', 'docketTitle': 'Dow AgroSciences LLC; Availability of Petition, Plant Pest Risk Assessment, and Environmental Assessment for Determination of Nonregulated Status of Corn Genetically Engineered for Herbicide Tolerance', 'docketType': 'Nonrulemaking', 'documentId': 'APHIS-2010-0103-0075', 'documentStatus': 'Posted', 'documentType': 'Public Submission', 'numberOfCommentsReceived': 1, 'openForComment': False, 'postedDate': '2012-01-01T00:00:00-05:00', 'submitterName': '- Coco', 'title': 'Comment from - Coco'}\n",
      "{'agencyAcronym': 'APHIS', 'allowLateComment': False, 'attachmentCount': 0, 'commentDueDate': '2012-02-27T23:59:59-05:00', 'commentStartDate': '2011-12-27T00:00:00-05:00', 'commentText': \"Please do not deregulate a genetically engineered variety of corn (DAS-40278-9), that is resistant to 2,4-D, an extremely toxic pesticide that was 50% of the recipe to making Agent Orange.\\n\\nIt would result in the unleashing of tens of millions of gallons of toxic pesticide chemicals annually onto America's agricultural landscape (not to mention runoff into rivers, streams, lakes and oceans).\\n\", 'docketId': 'APHIS-2010-0103', 'docketTitle': 'Dow AgroSciences LLC; Availability of Petition, Plant Pest Risk Assessment, and Environmental Assessment for Determination of Nonregulated Status of Corn Genetically Engineered for Herbicide Tolerance', 'docketType': 'Nonrulemaking', 'documentId': 'APHIS-2010-0103-0075', 'documentStatus': 'Posted', 'documentType': 'Public Submission', 'numberOfCommentsReceived': 1, 'openForComment': False, 'postedDate': '2012-01-01T00:00:00-05:00', 'submitterName': '- Coco', 'title': 'Comment from - Coco'}\n",
      "\n",
      "\n",
      "100\n",
      "{'agencyAcronym': 'APHIS', 'allowLateComment': False, 'attachmentCount': 0, 'commentDueDate': '2012-02-27T23:59:59-05:00', 'commentStartDate': '2011-12-27T00:00:00-05:00', 'commentText': 'NO, absolutely NO on any measure that would allow or promote spraying with DDT on any crops in the US (or elsewhere).  The premise that pesticides and other toxins are \"necessary\" to feed the world is THOROUGHLY FLAWED AND FALSE.  Restore microbial life to the soil so that mineral uptake is enhanced and plants will generate their own resistance to \"pests\" -- whose job it is to breakdown plants whose biochemical make up is a) simple enough for such pests to digest it, and b) devoid of adequate mineral and other nutrient content to make it worth eating by higher oganisms.    Read Acres USA for details on how to promote life, not destroy it, so that we provide nourishment, not merely belly stuffing muggle chow for the people on this planet.  ', 'docketId': 'APHIS-2010-0103', 'docketTitle': 'Dow AgroSciences LLC; Availability of Petition, Plant Pest Risk Assessment, and Environmental Assessment for Determination of Nonregulated Status of Corn Genetically Engineered for Herbicide Tolerance', 'docketType': 'Nonrulemaking', 'documentId': 'APHIS-2010-0103-0399', 'documentStatus': 'Posted', 'documentType': 'Public Submission', 'numberOfCommentsReceived': 1, 'openForComment': False, 'postedDate': '2012-01-02T00:00:00-05:00', 'submitterName': 'Karen Lyke', 'title': 'Comment from Karen Lyke'}\n",
      "{'agencyAcronym': 'APHIS', 'allowLateComment': False, 'attachmentCount': 0, 'commentDueDate': '2012-02-27T23:59:59-05:00', 'commentStartDate': '2011-12-27T00:00:00-05:00', 'commentText': 'NO, absolutely NO on any measure that would allow or promote spraying with DDT on any crops in the US (or elsewhere).  The premise that pesticides and other toxins are \"necessary\" to feed the world is THOROUGHLY FLAWED AND FALSE.  Restore microbial life to the soil so that mineral uptake is enhanced and plants will generate their own resistance to \"pests\" -- whose job it is to breakdown plants whose biochemical make up is a) simple enough for such pests to digest it, and b) devoid of adequate mineral and other nutrient content to make it worth eating by higher oganisms.    Read Acres USA for details on how to promote life, not destroy it, so that we provide nourishment, not merely belly stuffing muggle chow for the people on this planet.  ', 'docketId': 'APHIS-2010-0103', 'docketTitle': 'Dow AgroSciences LLC; Availability of Petition, Plant Pest Risk Assessment, and Environmental Assessment for Determination of Nonregulated Status of Corn Genetically Engineered for Herbicide Tolerance', 'docketType': 'Nonrulemaking', 'documentId': 'APHIS-2010-0103-0399', 'documentStatus': 'Posted', 'documentType': 'Public Submission', 'numberOfCommentsReceived': 1, 'openForComment': False, 'postedDate': '2012-01-02T00:00:00-05:00', 'submitterName': 'Karen Lyke', 'title': 'Comment from Karen Lyke'}\n",
      "\n",
      "\n",
      "1000\n",
      "{'agencyAcronym': 'NOAA', 'allowLateComment': False, 'attachmentCount': 3, 'commentDueDate': '2012-01-03T23:59:59-05:00', 'commentStartDate': '2011-11-02T00:00:00-04:00', 'commentText': 'See attached file(s)', 'docketId': 'NOAA-NMFS-2011-0289', 'docketTitle': 'Listing Endangered and Threatened\\r\\nWildlife and Plants; 90-Day Finding on\\r\\na Petition To List Alewife and Blueback\\r\\nHerring as Threatened Under the\\r\\nEndangered Species Act', 'docketType': 'Nonrulemaking', 'documentId': 'NOAA-NMFS-2011-0289-0015', 'documentStatus': 'Posted', 'documentType': 'Public Submission', 'numberOfCommentsReceived': 1, 'openForComment': False, 'organization': 'DOI National Park Service', 'postedDate': '2012-01-04T00:00:00-05:00', 'submitterName': 'William Yeaman', 'title': 'Comment from William Yeaman'}\n",
      "{'agencyAcronym': 'NOAA', 'allowLateComment': False, 'attachmentCount': 3, 'commentDueDate': '2012-01-03T23:59:59-05:00', 'commentStartDate': '2011-11-02T00:00:00-04:00', 'commentText': 'See attached file(s)', 'docketId': 'NOAA-NMFS-2011-0289', 'docketTitle': 'Listing Endangered and Threatened\\r\\nWildlife and Plants; 90-Day Finding on\\r\\na Petition To List Alewife and Blueback\\r\\nHerring as Threatened Under the\\r\\nEndangered Species Act', 'docketType': 'Nonrulemaking', 'documentId': 'NOAA-NMFS-2011-0289-0015', 'documentStatus': 'Posted', 'documentType': 'Public Submission', 'numberOfCommentsReceived': 1, 'openForComment': False, 'organization': 'DOI National Park Service', 'postedDate': '2012-01-04T00:00:00-05:00', 'submitterName': 'William Yeaman', 'title': 'Comment from William Yeaman'}\n",
      "\n",
      "\n",
      "10000\n",
      "{'agencyAcronym': 'FWS', 'allowLateComment': False, 'attachmentCount': 0, 'commentDueDate': '2012-01-13T23:59:59-05:00', 'commentStartDate': '2011-10-05T00:00:00-04:00', 'commentText': \"The return of wolves to the Northern Rockies is one of the greatest\\nconservation success stories in American history, and I want to see\\nthat success continue over the long term.\\n\\nI urge you to stand up to Wyoming and ensure that it strengthens its\\nwolf management plan. Removing endangered species protections from\\nwolves in Wyoming while that state's current management plan is in\\nplace would be disastrous for the wolf population.\\n\\nFor example, under the current plan, wolves could be shot on sight\\nacross almost 90% of Wyoming. That is not conservation, nor is it an\\nappropriate plan for managing wolves after their removal from the\\nendangered species list. Wolves should have more protective, trophy\\ngame status across all of Wyoming.\\n\\nState governments need to manage wolves as native wildlife that play a\\ncrucial role in the Northern Rockies ecosystem, instead of treating\\nthem like pests and seeking to reduce their numbers to minimum levels.\\n\\nAnd please make sure that more resources are directed to non-lethal\\nconflict-prevention practices for wolves. It would benefit all parties\\nto prevent conflicts before they ever happen.\\n\\nPlease protect wolves in Wyoming and allow their great comeback to\\ncontinue for generations to come.\", 'docketId': 'FWS-R6-ES-2011-0039', 'docketTitle': 'Removal of gray wolf in Wyoming from the list of Endangered and Threatened Species', 'docketType': 'Rulemaking', 'documentId': 'FWS-R6-ES-2011-0039-5066', 'documentStatus': 'Posted', 'documentType': 'Public Submission', 'numberOfCommentsReceived': 1, 'openForComment': False, 'postedDate': '2012-01-13T00:00:00-05:00', 'rin': '1018-AX94', 'title': 'Comment on FR Doc # 2011-25359'}\n",
      "{'agencyAcronym': 'FWS', 'allowLateComment': False, 'attachmentCount': 0, 'commentDueDate': '2012-01-13T23:59:59-05:00', 'commentStartDate': '2011-10-05T00:00:00-04:00', 'commentText': \"The return of wolves to the Northern Rockies is one of the greatest\\nconservation success stories in American history, and I want to see\\nthat success continue over the long term.\\n\\nI urge you to stand up to Wyoming and ensure that it strengthens its\\nwolf management plan. Removing endangered species protections from\\nwolves in Wyoming while that state's current management plan is in\\nplace would be disastrous for the wolf population.\\n\\nFor example, under the current plan, wolves could be shot on sight\\nacross almost 90% of Wyoming. That is not conservation, nor is it an\\nappropriate plan for managing wolves after their removal from the\\nendangered species list. Wolves should have more protective, trophy\\ngame status across all of Wyoming.\\n\\nState governments need to manage wolves as native wildlife that play a\\ncrucial role in the Northern Rockies ecosystem, instead of treating\\nthem like pests and seeking to reduce their numbers to minimum levels.\\n\\nAnd please make sure that more resources are directed to non-lethal\\nconflict-prevention practices for wolves. It would benefit all parties\\nto prevent conflicts before they ever happen.\\n\\nPlease protect wolves in Wyoming and allow their great comeback to\\ncontinue for generations to come.\", 'docketId': 'FWS-R6-ES-2011-0039', 'docketTitle': 'Removal of gray wolf in Wyoming from the list of Endangered and Threatened Species', 'docketType': 'Rulemaking', 'documentId': 'FWS-R6-ES-2011-0039-5066', 'documentStatus': 'Posted', 'documentType': 'Public Submission', 'numberOfCommentsReceived': 1, 'openForComment': False, 'postedDate': '2012-01-13T00:00:00-05:00', 'rin': '1018-AX94', 'title': 'Comment on FR Doc # 2011-25359'}\n",
      "\n",
      "\n",
      "100000\n",
      "{'agencyAcronym': 'FWS', 'allowLateComment': False, 'attachmentCount': 0, 'commentDueDate': '2012-06-11T23:59:59-04:00', 'commentStartDate': '2012-04-11T00:00:00-04:00', 'commentText': \"Please advance a worldwide ban on the commercial trade in polar bear\\nparts by proposing the transfer of polar bears from Appendix II to\\nAppendix I of the Convention on International Trade in Endangered\\nSpecies (CITES).\\n\\nWith polar bears gravely threatened by climate change, we must take all\\npossible measures to limit other deadly pressures on them. The\\nscientific evidence is overwhelming that rising temperatures will cause\\ntwo-thirds of the world's polar bear populations, including all of\\nAlaska's polar bears, to go extinct by 2050. They are already drowning\\nand starving as a result of melting sea ice. Their populations cannot\\nafford to be hunted simply to meet the international demand for polar\\nbear rugs.\\n\\nCanada allows the killing of more than 300 polar bears every year,\\nmostly for the sake of sports hunting and to feed the growing\\ninternational demand for polar bear hides and parts.  Indeed, polar\\nbear hides are fetching record prices and sports hunting is on the\\nrise. Yet, despite the polar bear's precarious status, Canada is\\nactually increasing its quotas for the hunting of polar bears in many\\nregions.\\n\\nThat is why I applauded the Obama Administration's position at the last\\nmeeting of CITES, where the United States sponsored an urgently-needed\\nproposal to ban the international commercial trade in polar bear parts.\\nWhile that initial effort was not successful, now is the time to build\\nmomentum and achieve success at the next meeting of CITES in March\\n2013.\\n\\nPlease sponsor a proposal for a ban, and then work with like-minded\\nrange states, such as Russia, to pass it for the sake of polar bear\\nsurvival.\\n\\nThank you.\", 'docketId': 'FWS-R9-IA-2011-0087', 'docketTitle': 'Request for Information and Recommendations on Resolutions, Decisions, and Agenda Items for Consideration at the Sixteenth Regular Meeting of the Conference of the Parties to the Convention on International Trade in Endangered Species of Wild Fauna and Flora', 'docketType': 'Nonrulemaking', 'documentId': 'FWS-R9-IA-2011-0087-2283', 'documentStatus': 'Posted', 'documentType': 'Public Submission', 'numberOfCommentsReceived': 1, 'openForComment': False, 'postedDate': '2012-05-17T00:00:00-04:00', 'title': 'Comment on FR Doc # N/A'}\n",
      "{'agencyAcronym': 'FWS', 'allowLateComment': False, 'attachmentCount': 0, 'commentDueDate': '2012-06-11T23:59:59-04:00', 'commentStartDate': '2012-04-11T00:00:00-04:00', 'commentText': \"Please advance a worldwide ban on the commercial trade in polar bear\\nparts by proposing the transfer of polar bears from Appendix II to\\nAppendix I of the Convention on International Trade in Endangered\\nSpecies (CITES).\\n\\nWith polar bears gravely threatened by climate change, we must take all\\npossible measures to limit other deadly pressures on them. The\\nscientific evidence is overwhelming that rising temperatures will cause\\ntwo-thirds of the world's polar bear populations, including all of\\nAlaska's polar bears, to go extinct by 2050. They are already drowning\\nand starving as a result of melting sea ice. Their populations cannot\\nafford to be hunted simply to meet the international demand for polar\\nbear rugs.\\n\\nCanada allows the killing of more than 300 polar bears every year,\\nmostly for the sake of sports hunting and to feed the growing\\ninternational demand for polar bear hides and parts.  Indeed, polar\\nbear hides are fetching record prices and sports hunting is on the\\nrise. Yet, despite the polar bear's precarious status, Canada is\\nactually increasing its quotas for the hunting of polar bears in many\\nregions.\\n\\nThat is why I applauded the Obama Administration's position at the last\\nmeeting of CITES, where the United States sponsored an urgently-needed\\nproposal to ban the international commercial trade in polar bear parts.\\nWhile that initial effort was not successful, now is the time to build\\nmomentum and achieve success at the next meeting of CITES in March\\n2013.\\n\\nPlease sponsor a proposal for a ban, and then work with like-minded\\nrange states, such as Russia, to pass it for the sake of polar bear\\nsurvival.\\n\\nThank you.\", 'docketId': 'FWS-R9-IA-2011-0087', 'docketTitle': 'Request for Information and Recommendations on Resolutions, Decisions, and Agenda Items for Consideration at the Sixteenth Regular Meeting of the Conference of the Parties to the Convention on International Trade in Endangered Species of Wild Fauna and Flora', 'docketType': 'Nonrulemaking', 'documentId': 'FWS-R9-IA-2011-0087-2283', 'documentStatus': 'Posted', 'documentType': 'Public Submission', 'numberOfCommentsReceived': 1, 'openForComment': False, 'postedDate': '2012-05-17T00:00:00-04:00', 'title': 'Comment on FR Doc # N/A'}\n",
      "\n",
      "\n",
      "123456\n",
      "{'agencyAcronym': 'FWS', 'allowLateComment': False, 'attachmentCount': 0, 'commentDueDate': '2012-06-11T23:59:59-04:00', 'commentStartDate': '2012-04-11T00:00:00-04:00', 'commentText': \"Please advance a worldwide ban on the commercial trade in polar bear\\nparts by proposing the transfer of polar bears from Appendix II to\\nAppendix I of the Convention on International Trade in Endangered\\nSpecies (CITES).\\n\\nWith polar bears gravely threatened by climate change, we must take all\\npossible measures to limit other deadly pressures on them. The\\nscientific evidence is overwhelming that rising temperatures will cause\\ntwo-thirds of the world's polar bear populations, including all of\\nAlaska's polar bears, to go extinct by 2050. They are already drowning\\nand starving as a result of melting sea ice. Their populations cannot\\nafford to be hunted simply to meet the international demand for polar\\nbear rugs.\\n\\nCanada allows the killing of more than 300 polar bears every year,\\nmostly for the sake of sport hunting and to feed the growing\\ninternational demand for polar bear hides and parts.  Indeed, polar\\nbear hides are fetching record prices and sport hunting is on the rise.\\nYet, despite the polar bear's precarious status, Canada is actually\\nincreasing its quotas for the hunting of polar bears in many regions.\\n\\nThat is why I applauded the Obama Administration's position at the last\\nmeeting of CITES, where the United States sponsored an urgently-needed\\nproposal to ban the international commercial trade in polar bear parts.\\nWhile that initial effort was not successful, now is the time to build\\nmomentum and achieve success at the next meeting of CITES in March\\n2013.\\n\\nPlease sponsor a proposal for a ban, and then work with like-minded\\nrange states, such as Russia, to pass it for the sake of polar bear\\nsurvival.\\n\\nThank you.\", 'docketId': 'FWS-R9-IA-2011-0087', 'docketTitle': 'Request for Information and Recommendations on Resolutions, Decisions, and Agenda Items for Consideration at the Sixteenth Regular Meeting of the Conference of the Parties to the Convention on International Trade in Endangered Species of Wild Fauna and Flora', 'docketType': 'Nonrulemaking', 'documentId': 'FWS-R9-IA-2011-0087-18410', 'documentStatus': 'Posted', 'documentType': 'Public Submission', 'numberOfCommentsReceived': 1, 'openForComment': False, 'postedDate': '2012-05-30T00:00:00-04:00', 'submitterName': 'Helen Jones', 'title': 'Comment on FR Doc # N/A'}\n",
      "{'agencyAcronym': 'FWS', 'allowLateComment': False, 'attachmentCount': 0, 'commentDueDate': '2012-06-11T23:59:59-04:00', 'commentStartDate': '2012-04-11T00:00:00-04:00', 'commentText': \"Please advance a worldwide ban on the commercial trade in polar bear\\nparts by proposing the transfer of polar bears from Appendix II to\\nAppendix I of the Convention on International Trade in Endangered\\nSpecies (CITES).\\n\\nWith polar bears gravely threatened by climate change, we must take all\\npossible measures to limit other deadly pressures on them. The\\nscientific evidence is overwhelming that rising temperatures will cause\\ntwo-thirds of the world's polar bear populations, including all of\\nAlaska's polar bears, to go extinct by 2050. They are already drowning\\nand starving as a result of melting sea ice. Their populations cannot\\nafford to be hunted simply to meet the international demand for polar\\nbear rugs.\\n\\nCanada allows the killing of more than 300 polar bears every year,\\nmostly for the sake of sport hunting and to feed the growing\\ninternational demand for polar bear hides and parts.  Indeed, polar\\nbear hides are fetching record prices and sport hunting is on the rise.\\nYet, despite the polar bear's precarious status, Canada is actually\\nincreasing its quotas for the hunting of polar bears in many regions.\\n\\nThat is why I applauded the Obama Administration's position at the last\\nmeeting of CITES, where the United States sponsored an urgently-needed\\nproposal to ban the international commercial trade in polar bear parts.\\nWhile that initial effort was not successful, now is the time to build\\nmomentum and achieve success at the next meeting of CITES in March\\n2013.\\n\\nPlease sponsor a proposal for a ban, and then work with like-minded\\nrange states, such as Russia, to pass it for the sake of polar bear\\nsurvival.\\n\\nThank you.\", 'docketId': 'FWS-R9-IA-2011-0087', 'docketTitle': 'Request for Information and Recommendations on Resolutions, Decisions, and Agenda Items for Consideration at the Sixteenth Regular Meeting of the Conference of the Parties to the Convention on International Trade in Endangered Species of Wild Fauna and Flora', 'docketType': 'Nonrulemaking', 'documentId': 'FWS-R9-IA-2011-0087-18410', 'documentStatus': 'Posted', 'documentType': 'Public Submission', 'numberOfCommentsReceived': 1, 'openForComment': False, 'postedDate': '2012-05-30T00:00:00-04:00', 'submitterName': 'Helen Jones', 'title': 'Comment on FR Doc # N/A'}\n",
      "\n",
      "\n",
      "130499\n",
      "{'agencyAcronym': 'FWS', 'allowLateComment': False, 'attachmentCount': 0, 'commentDueDate': '2012-06-11T23:59:59-04:00', 'commentStartDate': '2012-04-11T00:00:00-04:00', 'commentText': \"Please advance a worldwide ban on the commercial trade in polar bear\\nparts by proposing the transfer of polar bears from Appendix II to\\nAppendix I of the Convention on International Trade in Endangered\\nSpecies (CITES).\\n\\nWith polar bears gravely threatened by climate change, we must take all\\npossible measures to limit other deadly pressures on them. The\\nscientific evidence is overwhelming that rising temperatures will cause\\ntwo-thirds of the world's polar bear populations, including all of\\nAlaska's polar bears, to go extinct by 2050. They are already drowning\\nand starving as a result of melting sea ice. Their populations cannot\\nafford to be hunted simply to meet the international demand for polar\\nbear rugs.\\n\\nCanada allows the killing of more than 300 polar bears every year,\\nmostly for the sake of sports hunting and to feed the growing\\ninternational demand for polar bear hides and parts.  Indeed, polar\\nbear hides are fetching record prices and sports hunting is on the\\nrise. Yet, despite the polar bear's precarious status, Canada is\\nactually increasing its quotas for the hunting of polar bears in many\\nregions.\\n\\nThat is why I applauded the Obama Administration's position at the last\\nmeeting of CITES, where the United States sponsored an urgently-needed\\nproposal to ban the international commercial trade in polar bear parts.\\nWhile that initial effort was not successful, now is the time to build\\nmomentum and achieve success at the next meeting of CITES in March\\n2013.\\n\\nPlease sponsor a proposal for a ban, and then work with like-minded\\nrange states, such as Russia, to pass it for the sake of polar bear\\nsurvival.\\n\\nThank you.\", 'docketId': 'FWS-R9-IA-2011-0087', 'docketTitle': 'Request for Information and Recommendations on Resolutions, Decisions, and Agenda Items for Consideration at the Sixteenth Regular Meeting of the Conference of the Parties to the Convention on International Trade in Endangered Species of Wild Fauna and Flora', 'docketType': 'Nonrulemaking', 'documentId': 'FWS-R9-IA-2011-0087-23289', 'documentStatus': 'Posted', 'documentType': 'Public Submission', 'numberOfCommentsReceived': 1, 'openForComment': False, 'postedDate': '2012-05-31T00:00:00-04:00', 'submitterName': 'jennifer Sullivan', 'title': 'Comment on FR Doc # N/A'}\n",
      "{'agencyAcronym': 'FWS', 'allowLateComment': False, 'attachmentCount': 0, 'commentDueDate': '2012-06-11T23:59:59-04:00', 'commentStartDate': '2012-04-11T00:00:00-04:00', 'commentText': \"Please advance a worldwide ban on the commercial trade in polar bear\\nparts by proposing the transfer of polar bears from Appendix II to\\nAppendix I of the Convention on International Trade in Endangered\\nSpecies (CITES).\\n\\nWith polar bears gravely threatened by climate change, we must take all\\npossible measures to limit other deadly pressures on them. The\\nscientific evidence is overwhelming that rising temperatures will cause\\ntwo-thirds of the world's polar bear populations, including all of\\nAlaska's polar bears, to go extinct by 2050. They are already drowning\\nand starving as a result of melting sea ice. Their populations cannot\\nafford to be hunted simply to meet the international demand for polar\\nbear rugs.\\n\\nCanada allows the killing of more than 300 polar bears every year,\\nmostly for the sake of sports hunting and to feed the growing\\ninternational demand for polar bear hides and parts.  Indeed, polar\\nbear hides are fetching record prices and sports hunting is on the\\nrise. Yet, despite the polar bear's precarious status, Canada is\\nactually increasing its quotas for the hunting of polar bears in many\\nregions.\\n\\nThat is why I applauded the Obama Administration's position at the last\\nmeeting of CITES, where the United States sponsored an urgently-needed\\nproposal to ban the international commercial trade in polar bear parts.\\nWhile that initial effort was not successful, now is the time to build\\nmomentum and achieve success at the next meeting of CITES in March\\n2013.\\n\\nPlease sponsor a proposal for a ban, and then work with like-minded\\nrange states, such as Russia, to pass it for the sake of polar bear\\nsurvival.\\n\\nThank you.\", 'docketId': 'FWS-R9-IA-2011-0087', 'docketTitle': 'Request for Information and Recommendations on Resolutions, Decisions, and Agenda Items for Consideration at the Sixteenth Regular Meeting of the Conference of the Parties to the Convention on International Trade in Endangered Species of Wild Fauna and Flora', 'docketType': 'Nonrulemaking', 'documentId': 'FWS-R9-IA-2011-0087-23289', 'documentStatus': 'Posted', 'documentType': 'Public Submission', 'numberOfCommentsReceived': 1, 'openForComment': False, 'postedDate': '2012-05-31T00:00:00-04:00', 'submitterName': 'jennifer Sullivan', 'title': 'Comment on FR Doc # N/A'}\n",
      "\n",
      "\n"
     ]
    }
   ],
   "source": [
    "# quality check\n",
    "last = len(data2012)-1\n",
    "check_list = [0,100,1000,10000,100000,123456,last]\n",
    "\n",
    "if len(data2012)==len(idata2012):\n",
    "    for n in check_list:\n",
    "        print(n,\n",
    "              data2012[n],\n",
    "              idata2012[n],\n",
    "              '\\n',sep='\\n')\n",
    "else:\n",
    "    print('check length')"
   ]
  },
  {
   "cell_type": "code",
   "execution_count": null,
   "metadata": {},
   "outputs": [],
   "source": []
  },
  {
   "cell_type": "code",
   "execution_count": null,
   "metadata": {},
   "outputs": [],
   "source": []
  },
  {
   "cell_type": "code",
   "execution_count": null,
   "metadata": {},
   "outputs": [],
   "source": []
  },
  {
   "cell_type": "code",
   "execution_count": null,
   "metadata": {},
   "outputs": [],
   "source": []
  },
  {
   "cell_type": "code",
   "execution_count": null,
   "metadata": {},
   "outputs": [],
   "source": []
  },
  {
   "cell_type": "markdown",
   "metadata": {},
   "source": [
    "## 2020"
   ]
  },
  {
   "cell_type": "code",
   "execution_count": null,
   "metadata": {},
   "outputs": [],
   "source": []
  },
  {
   "cell_type": "code",
   "execution_count": null,
   "metadata": {},
   "outputs": [],
   "source": [
    "%%time\n",
    "\n",
    "with open(filePath+'endpoint_documents_PS_2020Jan01_2020May31.json', 'r', encoding='utf-8') as jfile:\n",
    "    data2020 = json.load(jfile)\n",
    "\n",
    "print(len(data2020))"
   ]
  },
  {
   "cell_type": "code",
   "execution_count": null,
   "metadata": {},
   "outputs": [],
   "source": []
  },
  {
   "cell_type": "markdown",
   "metadata": {},
   "source": [
    "## 2017"
   ]
  },
  {
   "cell_type": "code",
   "execution_count": null,
   "metadata": {},
   "outputs": [],
   "source": [
    "%%time\n",
    "\n",
    "df2017 = pd.read_json(filePath+'endpoint_documents_PS_2017Jan01_2017May31.json')\n",
    "\n",
    "df2017.info()"
   ]
  },
  {
   "cell_type": "code",
   "execution_count": null,
   "metadata": {},
   "outputs": [],
   "source": [
    "dfColumns = df2017.columns.tolist()\n",
    "print(dfColumns)"
   ]
  },
  {
   "cell_type": "code",
   "execution_count": null,
   "metadata": {},
   "outputs": [],
   "source": [
    "write_columns = ['agencyAcronym','attachmentCount','commentDueDate','commentStartDate','docketId',\n",
    "                 'docketType','documentId','numberOfCommentsReceived','openForComment','postedDate',\n",
    "                 'submitterName','title','organization']\n",
    "\n",
    "# write to csv, reference: https://pandas.pydata.org/docs/reference/api/pandas.DataFrame.to_csv.html\n",
    "with open(savePath+'endpoint_documents_PS_2017.csv', 'w', encoding='utf-8') as outfile:\n",
    "    df2017.to_csv(outfile, index_label='index', line_terminator='\\n', columns=write_columns)"
   ]
  },
  {
   "cell_type": "code",
   "execution_count": null,
   "metadata": {},
   "outputs": [],
   "source": []
  },
  {
   "cell_type": "markdown",
   "metadata": {},
   "source": [
    "## 2016"
   ]
  },
  {
   "cell_type": "code",
   "execution_count": null,
   "metadata": {},
   "outputs": [],
   "source": [
    "%%time\n",
    "\n",
    "df2016 = pd.read_json(filePath+'endpoint_documents_PS_2016Jan01_2016May31.json')\n",
    "\n",
    "df2016.info()"
   ]
  },
  {
   "cell_type": "code",
   "execution_count": null,
   "metadata": {},
   "outputs": [],
   "source": [
    "dfColumns = df2016.columns.tolist()\n",
    "print(dfColumns)"
   ]
  },
  {
   "cell_type": "code",
   "execution_count": null,
   "metadata": {},
   "outputs": [],
   "source": [
    "write_columns = ['agencyAcronym','attachmentCount','commentDueDate','commentStartDate','docketId',\n",
    "                 'docketType','documentId','numberOfCommentsReceived','openForComment','postedDate',\n",
    "                 'submitterName','title','organization']\n",
    "\n",
    "# write to csv, reference: https://pandas.pydata.org/docs/reference/api/pandas.DataFrame.to_csv.html\n",
    "with open(savePath+'endpoint_documents_PS_2016.csv', 'w', encoding='utf-8') as outfile:\n",
    "    df2016.to_csv(outfile, index_label='index', line_terminator='\\n', columns=write_columns)"
   ]
  },
  {
   "cell_type": "code",
   "execution_count": null,
   "metadata": {},
   "outputs": [],
   "source": []
  },
  {
   "cell_type": "markdown",
   "metadata": {},
   "source": [
    "## 2015"
   ]
  },
  {
   "cell_type": "code",
   "execution_count": null,
   "metadata": {},
   "outputs": [],
   "source": [
    "%%time\n",
    "\n",
    "df2015 = pd.read_json(filePath+'endpoint_documents_PS_2015Jan01_2015May31.json')\n",
    "\n",
    "df2015.info()"
   ]
  },
  {
   "cell_type": "code",
   "execution_count": null,
   "metadata": {},
   "outputs": [],
   "source": [
    "dfColumns = df2015.columns.tolist()\n",
    "print(dfColumns)"
   ]
  },
  {
   "cell_type": "code",
   "execution_count": null,
   "metadata": {},
   "outputs": [],
   "source": [
    "write_columns = ['agencyAcronym','attachmentCount','commentDueDate','commentStartDate','docketId',\n",
    "                 'docketType','documentId','numberOfCommentsReceived','openForComment','postedDate',\n",
    "                 'submitterName','title','organization']\n",
    "\n",
    "# write to csv, reference: https://pandas.pydata.org/docs/reference/api/pandas.DataFrame.to_csv.html\n",
    "with open(savePath+'endpoint_documents_PS_2015.csv', 'w', encoding='utf-8') as outfile:\n",
    "    df2015.to_csv(outfile, index_label='index', line_terminator='\\n', columns=write_columns)"
   ]
  },
  {
   "cell_type": "code",
   "execution_count": null,
   "metadata": {},
   "outputs": [],
   "source": []
  },
  {
   "cell_type": "markdown",
   "metadata": {},
   "source": [
    "## 2014"
   ]
  },
  {
   "cell_type": "code",
   "execution_count": null,
   "metadata": {},
   "outputs": [],
   "source": [
    "%%time\n",
    "\n",
    "df2014 = pd.read_json(filePath+'endpoint_documents_PS_2014Jan01_2014May31.json')\n",
    "\n",
    "df2014.info()"
   ]
  },
  {
   "cell_type": "code",
   "execution_count": null,
   "metadata": {},
   "outputs": [],
   "source": [
    "dfColumns = df2014.columns.tolist()\n",
    "print(dfColumns)"
   ]
  },
  {
   "cell_type": "code",
   "execution_count": null,
   "metadata": {},
   "outputs": [],
   "source": [
    "write_columns = ['agencyAcronym','attachmentCount','commentDueDate','commentStartDate','docketId',\n",
    "                 'docketType','documentId','numberOfCommentsReceived','openForComment','postedDate',\n",
    "                 'submitterName','title','organization']\n",
    "\n",
    "# write to csv, reference: https://pandas.pydata.org/docs/reference/api/pandas.DataFrame.to_csv.html\n",
    "with open(savePath+'endpoint_documents_PS_2014.csv', 'w', encoding='utf-8') as outfile:\n",
    "    df2014.to_csv(outfile, index_label='index', line_terminator='\\n', columns=write_columns)"
   ]
  },
  {
   "cell_type": "code",
   "execution_count": null,
   "metadata": {},
   "outputs": [],
   "source": []
  },
  {
   "cell_type": "markdown",
   "metadata": {},
   "source": [
    "## 2013"
   ]
  },
  {
   "cell_type": "code",
   "execution_count": null,
   "metadata": {},
   "outputs": [],
   "source": [
    "%%time\n",
    "\n",
    "df2013 = pd.read_json(filePath+'endpoint_documents_PS_2013Jan01_2013May31.json')\n",
    "\n",
    "df2013.info()"
   ]
  },
  {
   "cell_type": "code",
   "execution_count": null,
   "metadata": {},
   "outputs": [],
   "source": [
    "dfColumns = df2013.columns.tolist()\n",
    "print(dfColumns)"
   ]
  },
  {
   "cell_type": "code",
   "execution_count": null,
   "metadata": {},
   "outputs": [],
   "source": [
    "write_columns = ['agencyAcronym','attachmentCount','commentDueDate','commentStartDate','docketId',\n",
    "                 'docketType','documentId','numberOfCommentsReceived','openForComment','postedDate',\n",
    "                 'submitterName','title','organization']\n",
    "\n",
    "# write to csv, reference: https://pandas.pydata.org/docs/reference/api/pandas.DataFrame.to_csv.html\n",
    "with open(savePath+'endpoint_documents_PS_2013.csv', 'w', encoding='utf-8') as outfile:\n",
    "    df2013.to_csv(outfile, index_label='index', line_terminator='\\n', columns=write_columns)"
   ]
  },
  {
   "cell_type": "code",
   "execution_count": null,
   "metadata": {},
   "outputs": [],
   "source": []
  },
  {
   "cell_type": "markdown",
   "metadata": {},
   "source": [
    "## 2012"
   ]
  },
  {
   "cell_type": "code",
   "execution_count": null,
   "metadata": {},
   "outputs": [],
   "source": [
    "%%time\n",
    "\n",
    "df2012 = pd.read_json(filePath+'endpoint_documents_PS_2012Jan01_2012May31.json')\n",
    "\n",
    "df2012.info()"
   ]
  },
  {
   "cell_type": "code",
   "execution_count": null,
   "metadata": {},
   "outputs": [],
   "source": [
    "dfColumns = df2012.columns.tolist()\n",
    "print(dfColumns)"
   ]
  },
  {
   "cell_type": "code",
   "execution_count": null,
   "metadata": {},
   "outputs": [],
   "source": [
    "write_columns = ['agencyAcronym','attachmentCount','commentDueDate','commentStartDate','docketId',\n",
    "                 'docketType','documentId','numberOfCommentsReceived','openForComment','postedDate',\n",
    "                 'submitterName','title','organization']\n",
    "\n",
    "# write to csv, reference: https://pandas.pydata.org/docs/reference/api/pandas.DataFrame.to_csv.html\n",
    "with open(savePath+'endpoint_documents_PS_2012.csv', 'w', encoding='utf-8') as outfile:\n",
    "    df2012.to_csv(outfile, index_label='index', line_terminator='\\n', columns=write_columns)"
   ]
  },
  {
   "cell_type": "code",
   "execution_count": null,
   "metadata": {},
   "outputs": [],
   "source": []
  }
 ],
 "metadata": {
  "kernelspec": {
   "display_name": "Python 3",
   "language": "python",
   "name": "python3"
  },
  "language_info": {
   "codemirror_mode": {
    "name": "ipython",
    "version": 3
   },
   "file_extension": ".py",
   "mimetype": "text/x-python",
   "name": "python",
   "nbconvert_exporter": "python",
   "pygments_lexer": "ipython3",
   "version": "3.8.3"
  }
 },
 "nbformat": 4,
 "nbformat_minor": 4
}
