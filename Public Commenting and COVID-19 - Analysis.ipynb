{
 "cells": [
  {
   "cell_type": "markdown",
   "metadata": {},
   "source": [
    "# Public Commenting in a Pandemic"
   ]
  },
  {
   "cell_type": "markdown",
   "metadata": {},
   "source": [
    "## Analysis"
   ]
  },
  {
   "cell_type": "code",
   "execution_count": 4,
   "metadata": {},
   "outputs": [],
   "source": [
    "# import packages\n",
    "import pandas as pd\n",
    "import numpy as np\n",
    "import json\n",
    "import time\n",
    "import os\n",
    "import datetime\n",
    "import re"
   ]
  },
  {
   "cell_type": "code",
   "execution_count": 5,
   "metadata": {},
   "outputs": [],
   "source": [
    "# Specify the path of the folder where the data are saved\n",
    "filePath = \"C:/Users/mark/Box Sync/_MF/Assignments/Insights/Public Commenting and COVID-19/Data/Annual/\""
   ]
  },
  {
   "cell_type": "code",
   "execution_count": null,
   "metadata": {},
   "outputs": [],
   "source": []
  },
  {
   "cell_type": "markdown",
   "metadata": {},
   "source": [
    "## 2020"
   ]
  },
  {
   "cell_type": "code",
   "execution_count": 6,
   "metadata": {},
   "outputs": [
    {
     "name": "stderr",
     "output_type": "stream",
     "text": [
      "C:\\Users\\mark\\anaconda3\\envs\\pipenv1\\lib\\site-packages\\IPython\\core\\interactiveshell.py:3062: DtypeWarning: Columns (9) have mixed types.Specify dtype option on import or set low_memory=False.\n",
      "  has_raised = await self.run_ast_nodes(code_ast.body, cell_name,\n",
      "C:\\Users\\mark\\anaconda3\\envs\\pipenv1\\lib\\site-packages\\numpy\\lib\\arraysetops.py:569: FutureWarning: elementwise comparison failed; returning scalar instead, but in the future will perform elementwise comparison\n",
      "  mask |= (ar1 == a)\n"
     ]
    },
    {
     "name": "stdout",
     "output_type": "stream",
     "text": [
      "<class 'pandas.core.frame.DataFrame'>\n",
      "Int64Index: 1368244 entries, 0 to 1368243\n",
      "Data columns (total 18 columns):\n",
      " #   Column           Non-Null Count    Dtype \n",
      "---  ------           --------------    ----- \n",
      " 0   agencyBranch     1368244 non-null  object\n",
      " 1   agencyParent     1368244 non-null  object\n",
      " 2   agencyAcronym    1368244 non-null  object\n",
      " 3   docketId         1368244 non-null  object\n",
      " 4   docketType       1368244 non-null  object\n",
      " 5   documentId       1368244 non-null  object\n",
      " 6   submitterName    1269579 non-null  object\n",
      " 7   title            1368244 non-null  object\n",
      " 8   organization     84303 non-null    object\n",
      " 9   attachmentCount  1368244 non-null  int64 \n",
      " 10  analysisDate     1368244 non-null  object\n",
      " 11  analysisYear     1368244 non-null  int64 \n",
      " 12  analysisMonth    1368244 non-null  int64 \n",
      " 13  commentsWithMCC  1368244 non-null  int64 \n",
      " 14  commentsNoMCC    1368244 non-null  int64 \n",
      " 15  MCCfilter        1368244 non-null  object\n",
      " 16  MCCnumber        1368244 non-null  int64 \n",
      " 17  represent        1368244 non-null  object\n",
      "dtypes: int64(6), object(12)\n",
      "memory usage: 198.3+ MB\n"
     ]
    }
   ],
   "source": [
    "# load CSV\n",
    "fileName = 'cleaned_PS_2020.csv'\n",
    "\n",
    "with open(filePath+fileName,'r',encoding='utf-8') as loadfile:\n",
    "    df2020 = pd.read_csv(loadfile, index_col='index')\n",
    "df2020.info()"
   ]
  },
  {
   "cell_type": "code",
   "execution_count": 7,
   "metadata": {},
   "outputs": [
    {
     "data": {
      "text/plain": [
       "index\n",
       "0          Unidentified\n",
       "1          Unidentified\n",
       "2          Unidentified\n",
       "3          Unidentified\n",
       "4          Unidentified\n",
       "               ...     \n",
       "1368239              No\n",
       "1368240             Yes\n",
       "1368241              No\n",
       "1368242              No\n",
       "1368243              No\n",
       "Name: represent, Length: 1368244, dtype: object"
      ]
     },
     "execution_count": 7,
     "metadata": {},
     "output_type": "execute_result"
    }
   ],
   "source": []
  },
  {
   "cell_type": "code",
   "execution_count": null,
   "metadata": {},
   "outputs": [],
   "source": []
  },
  {
   "cell_type": "code",
   "execution_count": null,
   "metadata": {},
   "outputs": [],
   "source": []
  },
  {
   "cell_type": "code",
   "execution_count": null,
   "metadata": {},
   "outputs": [],
   "source": []
  },
  {
   "cell_type": "code",
   "execution_count": null,
   "metadata": {},
   "outputs": [],
   "source": []
  }
 ],
 "metadata": {
  "kernelspec": {
   "display_name": "Python 3",
   "language": "python",
   "name": "python3"
  },
  "language_info": {
   "codemirror_mode": {
    "name": "ipython",
    "version": 3
   },
   "file_extension": ".py",
   "mimetype": "text/x-python",
   "name": "python",
   "nbconvert_exporter": "python",
   "pygments_lexer": "ipython3",
   "version": "3.8.3"
  }
 },
 "nbformat": 4,
 "nbformat_minor": 4
}
