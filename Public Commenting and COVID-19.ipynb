{
 "cells": [
  {
   "cell_type": "markdown",
   "metadata": {},
   "source": [
    "# Public Commenting in a Pandemic"
   ]
  },
  {
   "cell_type": "markdown",
   "metadata": {},
   "source": [
    "## References\n",
    "\n",
    "API documentation: https://regulationsgov.github.io/developers/basics/"
   ]
  },
  {
   "cell_type": "code",
   "execution_count": 2,
   "metadata": {},
   "outputs": [],
   "source": [
    "# import packages\n",
    "import pandas as pd\n",
    "import numpy as np\n",
    "import requests\n",
    "import urllib\n",
    "import json\n",
    "import time\n",
    "import os\n",
    "import datetime"
   ]
  },
  {
   "cell_type": "code",
   "execution_count": 5,
   "metadata": {},
   "outputs": [
    {
     "name": "stdout",
     "output_type": "stream",
     "text": [
      "recorded time is 2020-06-15 15:06:40.548101\n",
      "later time is 2020-06-15 15:06:45.548101\n"
     ]
    }
   ],
   "source": [
    "##Louis Tests\n",
    "from datetime import datetime\n",
    "\n",
    "now = datetime.now()\n",
    "print(\"recorded time is \" + str(now))\n",
    "\n",
    "timeIndices = []\n",
    "totalIndices = 5\n",
    "for index in range(0,5):\n",
    "    timeIndices.append(now)\n",
    "\n",
    "    \n",
    "from datetime import timedelta\n",
    "later = now + timedelta(seconds = 5)\n",
    "print(\"later time is \" + str(later))"
   ]
  },
  {
   "cell_type": "code",
   "execution_count": 6,
   "metadata": {},
   "outputs": [
    {
     "data": {
      "text/plain": [
       "[datetime.datetime(2020, 6, 15, 15, 6, 40, 548101),\n",
       " datetime.datetime(2020, 6, 15, 15, 6, 40, 548101),\n",
       " datetime.datetime(2020, 6, 15, 15, 6, 40, 548101),\n",
       " datetime.datetime(2020, 6, 15, 15, 6, 40, 548101),\n",
       " datetime.datetime(2020, 6, 15, 15, 6, 40, 548101)]"
      ]
     },
     "execution_count": 6,
     "metadata": {},
     "output_type": "execute_result"
    }
   ],
   "source": [
    "timeIndices"
   ]
  },
  {
   "cell_type": "code",
   "execution_count": 7,
   "metadata": {},
   "outputs": [
    {
     "name": "stdout",
     "output_type": "stream",
     "text": [
      "finally waited long enough\n"
     ]
    }
   ],
   "source": [
    "while True:\n",
    "    currTime = datetime.now()\n",
    "    if (currTime < later):\n",
    "        print(\"not yet\")\n",
    "        time.sleep(1)\n",
    "    else:\n",
    "        print(\"finally waited long enough\")\n",
    "        break;"
   ]
  },
  {
   "cell_type": "code",
   "execution_count": 16,
   "metadata": {},
   "outputs": [
    {
     "name": "stdout",
     "output_type": "stream",
     "text": [
      "99\n",
      "1\n"
     ]
    }
   ],
   "source": [
    "print(pageIndex)\n",
    "print(21 % temp_pagesPerHour)"
   ]
  },
  {
   "cell_type": "code",
   "execution_count": 11,
   "metadata": {},
   "outputs": [
    {
     "name": "stdout",
     "output_type": "stream",
     "text": [
      "nextAllowableTimeIndex = 0  nextAllowableTime = 2020-06-15 15:45:16.179304  currTime = 2020-06-15 15:12:11.921707\n",
      "ok to make request (pageIndex = 0)\n",
      "nextAllowableTimeIndex = 1  nextAllowableTime = 2020-06-15 15:45:16.179304  currTime = 2020-06-15 15:12:11.921707\n",
      "ok to make request (pageIndex = 1)\n",
      "nextAllowableTimeIndex = 2  nextAllowableTime = 2020-06-15 15:45:16.179304  currTime = 2020-06-15 15:12:11.921707\n",
      "ok to make request (pageIndex = 2)\n",
      "nextAllowableTimeIndex = 3  nextAllowableTime = 2020-06-15 15:45:16.179304  currTime = 2020-06-15 15:12:11.921707\n",
      "ok to make request (pageIndex = 3)\n",
      "nextAllowableTimeIndex = 4  nextAllowableTime = 2020-06-15 15:45:16.179304  currTime = 2020-06-15 15:12:11.921707\n",
      "ok to make request (pageIndex = 4)\n",
      "nextAllowableTimeIndex = 5  nextAllowableTime = 2020-06-15 15:45:16.179304  currTime = 2020-06-15 15:12:11.921707\n",
      "ok to make request (pageIndex = 5)\n",
      "nextAllowableTimeIndex = 6  nextAllowableTime = 2020-06-15 15:45:16.179304  currTime = 2020-06-15 15:12:11.921707\n",
      "ok to make request (pageIndex = 6)\n",
      "nextAllowableTimeIndex = 7  nextAllowableTime = 2020-06-15 15:45:16.179304  currTime = 2020-06-15 15:12:11.921707\n",
      "ok to make request (pageIndex = 7)\n",
      "nextAllowableTimeIndex = 8  nextAllowableTime = 2020-06-15 15:45:16.179304  currTime = 2020-06-15 15:12:11.921707\n",
      "ok to make request (pageIndex = 8)\n",
      "nextAllowableTimeIndex = 9  nextAllowableTime = 2020-06-15 15:45:16.179304  currTime = 2020-06-15 15:12:11.921707\n",
      "ok to make request (pageIndex = 9)\n",
      "nextAllowableTimeIndex = 10  nextAllowableTime = 2020-06-15 15:45:16.179304  currTime = 2020-06-15 15:12:11.921707\n",
      "ok to make request (pageIndex = 10)\n",
      "nextAllowableTimeIndex = 11  nextAllowableTime = 2020-06-15 15:45:16.179304  currTime = 2020-06-15 15:12:11.921707\n",
      "ok to make request (pageIndex = 11)\n",
      "nextAllowableTimeIndex = 12  nextAllowableTime = 2020-06-15 15:45:16.179304  currTime = 2020-06-15 15:12:11.921707\n",
      "ok to make request (pageIndex = 12)\n",
      "nextAllowableTimeIndex = 13  nextAllowableTime = 2020-06-15 15:45:16.179304  currTime = 2020-06-15 15:12:11.921707\n",
      "ok to make request (pageIndex = 13)\n",
      "nextAllowableTimeIndex = 14  nextAllowableTime = 2020-06-15 15:45:16.179304  currTime = 2020-06-15 15:12:11.921707\n",
      "ok to make request (pageIndex = 14)\n",
      "nextAllowableTimeIndex = 15  nextAllowableTime = 2020-06-15 15:45:16.179304  currTime = 2020-06-15 15:12:11.921707\n",
      "ok to make request (pageIndex = 15)\n",
      "nextAllowableTimeIndex = 16  nextAllowableTime = 2020-06-15 15:45:16.179304  currTime = 2020-06-15 15:12:11.921707\n",
      "ok to make request (pageIndex = 16)\n",
      "nextAllowableTimeIndex = 17  nextAllowableTime = 2020-06-15 15:45:16.179304  currTime = 2020-06-15 15:12:11.921707\n",
      "ok to make request (pageIndex = 17)\n",
      "nextAllowableTimeIndex = 18  nextAllowableTime = 2020-06-15 15:45:16.179304  currTime = 2020-06-15 15:12:11.921707\n",
      "ok to make request (pageIndex = 18)\n",
      "nextAllowableTimeIndex = 19  nextAllowableTime = 2020-06-15 15:45:16.179304  currTime = 2020-06-15 15:12:11.921707\n",
      "ok to make request (pageIndex = 19)\n",
      "nextAllowableTimeIndex = 0  nextAllowableTime = 2020-06-15 15:45:21.179304  currTime = 2020-06-15 15:12:11.921707\n",
      "sleeping 5.0 seconds...\n",
      "ok to make request (pageIndex = 20)\n",
      "nextAllowableTimeIndex = 1  nextAllowableTime = 2020-06-15 15:45:21.179304  currTime = 2020-06-15 15:12:11.921707\n",
      "ok to make request (pageIndex = 21)\n",
      "nextAllowableTimeIndex = 2  nextAllowableTime = 2020-06-15 15:45:21.179304  currTime = 2020-06-15 15:12:11.921707\n",
      "ok to make request (pageIndex = 22)\n",
      "nextAllowableTimeIndex = 3  nextAllowableTime = 2020-06-15 15:45:21.179304  currTime = 2020-06-15 15:12:11.921707\n",
      "ok to make request (pageIndex = 23)\n",
      "nextAllowableTimeIndex = 4  nextAllowableTime = 2020-06-15 15:45:21.179304  currTime = 2020-06-15 15:12:11.921707\n",
      "ok to make request (pageIndex = 24)\n",
      "nextAllowableTimeIndex = 5  nextAllowableTime = 2020-06-15 15:45:21.179304  currTime = 2020-06-15 15:12:11.921707\n",
      "ok to make request (pageIndex = 25)\n",
      "nextAllowableTimeIndex = 6  nextAllowableTime = 2020-06-15 15:45:21.179304  currTime = 2020-06-15 15:12:11.921707\n",
      "ok to make request (pageIndex = 26)\n",
      "nextAllowableTimeIndex = 7  nextAllowableTime = 2020-06-15 15:45:21.179304  currTime = 2020-06-15 15:12:11.921707\n",
      "ok to make request (pageIndex = 27)\n",
      "nextAllowableTimeIndex = 8  nextAllowableTime = 2020-06-15 15:45:21.179304  currTime = 2020-06-15 15:12:11.921707\n",
      "ok to make request (pageIndex = 28)\n",
      "nextAllowableTimeIndex = 9  nextAllowableTime = 2020-06-15 15:45:21.179304  currTime = 2020-06-15 15:12:11.921707\n",
      "ok to make request (pageIndex = 29)\n",
      "nextAllowableTimeIndex = 10  nextAllowableTime = 2020-06-15 15:45:21.179304  currTime = 2020-06-15 15:12:11.921707\n",
      "ok to make request (pageIndex = 30)\n",
      "nextAllowableTimeIndex = 11  nextAllowableTime = 2020-06-15 15:45:21.179304  currTime = 2020-06-15 15:12:11.921707\n",
      "ok to make request (pageIndex = 31)\n",
      "nextAllowableTimeIndex = 12  nextAllowableTime = 2020-06-15 15:45:21.179304  currTime = 2020-06-15 15:12:11.921707\n",
      "ok to make request (pageIndex = 32)\n",
      "nextAllowableTimeIndex = 13  nextAllowableTime = 2020-06-15 15:45:21.179304  currTime = 2020-06-15 15:12:11.921707\n",
      "ok to make request (pageIndex = 33)\n",
      "nextAllowableTimeIndex = 14  nextAllowableTime = 2020-06-15 15:45:21.179304  currTime = 2020-06-15 15:12:11.921707\n",
      "ok to make request (pageIndex = 34)\n",
      "nextAllowableTimeIndex = 15  nextAllowableTime = 2020-06-15 15:45:21.179304  currTime = 2020-06-15 15:12:11.921707\n",
      "ok to make request (pageIndex = 35)\n",
      "nextAllowableTimeIndex = 16  nextAllowableTime = 2020-06-15 15:45:21.179304  currTime = 2020-06-15 15:12:11.921707\n",
      "ok to make request (pageIndex = 36)\n",
      "nextAllowableTimeIndex = 17  nextAllowableTime = 2020-06-15 15:45:21.179304  currTime = 2020-06-15 15:12:11.921707\n",
      "ok to make request (pageIndex = 37)\n",
      "nextAllowableTimeIndex = 18  nextAllowableTime = 2020-06-15 15:45:21.179304  currTime = 2020-06-15 15:12:11.921707\n",
      "ok to make request (pageIndex = 38)\n",
      "nextAllowableTimeIndex = 19  nextAllowableTime = 2020-06-15 15:45:21.179304  currTime = 2020-06-15 15:12:11.921707\n",
      "ok to make request (pageIndex = 39)\n",
      "nextAllowableTimeIndex = 0  nextAllowableTime = 2020-06-15 15:45:27.189370  currTime = 2020-06-15 15:12:11.921707\n",
      "sleeping 5.0 seconds...\n",
      "ok to make request (pageIndex = 40)\n",
      "nextAllowableTimeIndex = 1  nextAllowableTime = 2020-06-15 15:45:27.189370  currTime = 2020-06-15 15:12:11.921707\n",
      "ok to make request (pageIndex = 41)\n",
      "nextAllowableTimeIndex = 2  nextAllowableTime = 2020-06-15 15:45:27.189370  currTime = 2020-06-15 15:12:11.921707\n",
      "ok to make request (pageIndex = 42)\n",
      "nextAllowableTimeIndex = 3  nextAllowableTime = 2020-06-15 15:45:27.189370  currTime = 2020-06-15 15:12:11.921707\n",
      "ok to make request (pageIndex = 43)\n",
      "nextAllowableTimeIndex = 4  nextAllowableTime = 2020-06-15 15:45:27.189370  currTime = 2020-06-15 15:12:11.921707\n",
      "ok to make request (pageIndex = 44)\n",
      "nextAllowableTimeIndex = 5  nextAllowableTime = 2020-06-15 15:45:27.189370  currTime = 2020-06-15 15:12:11.921707\n",
      "ok to make request (pageIndex = 45)\n",
      "nextAllowableTimeIndex = 6  nextAllowableTime = 2020-06-15 15:45:27.189370  currTime = 2020-06-15 15:12:11.921707\n",
      "ok to make request (pageIndex = 46)\n",
      "nextAllowableTimeIndex = 7  nextAllowableTime = 2020-06-15 15:45:27.189370  currTime = 2020-06-15 15:12:11.921707\n",
      "ok to make request (pageIndex = 47)\n",
      "nextAllowableTimeIndex = 8  nextAllowableTime = 2020-06-15 15:45:27.189370  currTime = 2020-06-15 15:12:11.921707\n",
      "ok to make request (pageIndex = 48)\n",
      "nextAllowableTimeIndex = 9  nextAllowableTime = 2020-06-15 15:45:27.189370  currTime = 2020-06-15 15:12:11.921707\n",
      "ok to make request (pageIndex = 49)\n",
      "nextAllowableTimeIndex = 10  nextAllowableTime = 2020-06-15 15:45:27.189370  currTime = 2020-06-15 15:12:11.921707\n",
      "ok to make request (pageIndex = 50)\n",
      "nextAllowableTimeIndex = 11  nextAllowableTime = 2020-06-15 15:45:27.189370  currTime = 2020-06-15 15:12:11.921707\n",
      "ok to make request (pageIndex = 51)\n",
      "nextAllowableTimeIndex = 12  nextAllowableTime = 2020-06-15 15:45:27.189370  currTime = 2020-06-15 15:12:11.921707\n",
      "ok to make request (pageIndex = 52)\n",
      "nextAllowableTimeIndex = 13  nextAllowableTime = 2020-06-15 15:45:27.189370  currTime = 2020-06-15 15:12:11.921707\n",
      "ok to make request (pageIndex = 53)\n",
      "nextAllowableTimeIndex = 14  nextAllowableTime = 2020-06-15 15:45:27.189370  currTime = 2020-06-15 15:12:11.921707\n",
      "ok to make request (pageIndex = 54)\n",
      "nextAllowableTimeIndex = 15  nextAllowableTime = 2020-06-15 15:45:27.189370  currTime = 2020-06-15 15:12:11.921707\n",
      "ok to make request (pageIndex = 55)\n",
      "nextAllowableTimeIndex = 16  nextAllowableTime = 2020-06-15 15:45:27.189370  currTime = 2020-06-15 15:12:11.921707\n",
      "ok to make request (pageIndex = 56)\n",
      "nextAllowableTimeIndex = 17  nextAllowableTime = 2020-06-15 15:45:27.189370  currTime = 2020-06-15 15:12:11.921707\n",
      "ok to make request (pageIndex = 57)\n",
      "nextAllowableTimeIndex = 18  nextAllowableTime = 2020-06-15 15:45:27.189370  currTime = 2020-06-15 15:12:11.921707\n",
      "ok to make request (pageIndex = 58)\n",
      "nextAllowableTimeIndex = 19  nextAllowableTime = 2020-06-15 15:45:27.189370  currTime = 2020-06-15 15:12:11.921707\n",
      "ok to make request (pageIndex = 59)\n",
      "nextAllowableTimeIndex = 0  nextAllowableTime = 2020-06-15 15:45:33.199347  currTime = 2020-06-15 15:12:11.921707\n",
      "sleeping 4.984481 seconds...\n"
     ]
    },
    {
     "name": "stdout",
     "output_type": "stream",
     "text": [
      "ok to make request (pageIndex = 60)\n",
      "nextAllowableTimeIndex = 1  nextAllowableTime = 2020-06-15 15:45:33.199347  currTime = 2020-06-15 15:12:11.921707\n",
      "ok to make request (pageIndex = 61)\n",
      "nextAllowableTimeIndex = 2  nextAllowableTime = 2020-06-15 15:45:33.199347  currTime = 2020-06-15 15:12:11.921707\n",
      "ok to make request (pageIndex = 62)\n",
      "nextAllowableTimeIndex = 3  nextAllowableTime = 2020-06-15 15:45:33.199347  currTime = 2020-06-15 15:12:11.921707\n",
      "ok to make request (pageIndex = 63)\n",
      "nextAllowableTimeIndex = 4  nextAllowableTime = 2020-06-15 15:45:33.199347  currTime = 2020-06-15 15:12:11.921707\n",
      "ok to make request (pageIndex = 64)\n",
      "nextAllowableTimeIndex = 5  nextAllowableTime = 2020-06-15 15:45:33.199347  currTime = 2020-06-15 15:12:11.921707\n",
      "ok to make request (pageIndex = 65)\n",
      "nextAllowableTimeIndex = 6  nextAllowableTime = 2020-06-15 15:45:33.199347  currTime = 2020-06-15 15:12:11.921707\n",
      "ok to make request (pageIndex = 66)\n",
      "nextAllowableTimeIndex = 7  nextAllowableTime = 2020-06-15 15:45:33.199347  currTime = 2020-06-15 15:12:11.921707\n",
      "ok to make request (pageIndex = 67)\n",
      "nextAllowableTimeIndex = 8  nextAllowableTime = 2020-06-15 15:45:33.199347  currTime = 2020-06-15 15:12:11.921707\n",
      "ok to make request (pageIndex = 68)\n",
      "nextAllowableTimeIndex = 9  nextAllowableTime = 2020-06-15 15:45:33.199347  currTime = 2020-06-15 15:12:11.921707\n",
      "ok to make request (pageIndex = 69)\n",
      "nextAllowableTimeIndex = 10  nextAllowableTime = 2020-06-15 15:45:33.199347  currTime = 2020-06-15 15:12:11.921707\n",
      "ok to make request (pageIndex = 70)\n",
      "nextAllowableTimeIndex = 11  nextAllowableTime = 2020-06-15 15:45:33.199347  currTime = 2020-06-15 15:12:11.921707\n",
      "ok to make request (pageIndex = 71)\n",
      "nextAllowableTimeIndex = 12  nextAllowableTime = 2020-06-15 15:45:33.199347  currTime = 2020-06-15 15:12:11.921707\n",
      "ok to make request (pageIndex = 72)\n",
      "nextAllowableTimeIndex = 13  nextAllowableTime = 2020-06-15 15:45:33.214866  currTime = 2020-06-15 15:12:11.921707\n",
      "ok to make request (pageIndex = 73)\n",
      "nextAllowableTimeIndex = 14  nextAllowableTime = 2020-06-15 15:45:33.214866  currTime = 2020-06-15 15:12:11.921707\n",
      "ok to make request (pageIndex = 74)\n",
      "nextAllowableTimeIndex = 15  nextAllowableTime = 2020-06-15 15:45:33.214866  currTime = 2020-06-15 15:12:11.921707\n",
      "ok to make request (pageIndex = 75)\n",
      "nextAllowableTimeIndex = 16  nextAllowableTime = 2020-06-15 15:45:33.214866  currTime = 2020-06-15 15:12:11.921707\n",
      "ok to make request (pageIndex = 76)\n",
      "nextAllowableTimeIndex = 17  nextAllowableTime = 2020-06-15 15:45:33.214866  currTime = 2020-06-15 15:12:11.921707\n",
      "ok to make request (pageIndex = 77)\n",
      "nextAllowableTimeIndex = 18  nextAllowableTime = 2020-06-15 15:45:33.214866  currTime = 2020-06-15 15:12:11.921707\n",
      "ok to make request (pageIndex = 78)\n",
      "nextAllowableTimeIndex = 19  nextAllowableTime = 2020-06-15 15:45:33.214866  currTime = 2020-06-15 15:12:11.921707\n",
      "ok to make request (pageIndex = 79)\n",
      "nextAllowableTimeIndex = 0  nextAllowableTime = 2020-06-15 15:45:39.212869  currTime = 2020-06-15 15:12:11.921707\n",
      "sleeping 4.984501 seconds...\n",
      "ok to make request (pageIndex = 80)\n",
      "nextAllowableTimeIndex = 1  nextAllowableTime = 2020-06-15 15:45:39.212869  currTime = 2020-06-15 15:12:11.921707\n",
      "ok to make request (pageIndex = 81)\n",
      "nextAllowableTimeIndex = 2  nextAllowableTime = 2020-06-15 15:45:39.212869  currTime = 2020-06-15 15:12:11.921707\n",
      "ok to make request (pageIndex = 82)\n",
      "nextAllowableTimeIndex = 3  nextAllowableTime = 2020-06-15 15:45:39.212869  currTime = 2020-06-15 15:12:11.921707\n",
      "ok to make request (pageIndex = 83)\n",
      "nextAllowableTimeIndex = 4  nextAllowableTime = 2020-06-15 15:45:39.212869  currTime = 2020-06-15 15:12:11.921707\n",
      "ok to make request (pageIndex = 84)\n",
      "nextAllowableTimeIndex = 5  nextAllowableTime = 2020-06-15 15:45:39.212869  currTime = 2020-06-15 15:12:11.921707\n",
      "ok to make request (pageIndex = 85)\n",
      "nextAllowableTimeIndex = 6  nextAllowableTime = 2020-06-15 15:45:39.212869  currTime = 2020-06-15 15:12:11.921707\n",
      "ok to make request (pageIndex = 86)\n",
      "nextAllowableTimeIndex = 7  nextAllowableTime = 2020-06-15 15:45:39.212869  currTime = 2020-06-15 15:12:11.921707\n",
      "ok to make request (pageIndex = 87)\n",
      "nextAllowableTimeIndex = 8  nextAllowableTime = 2020-06-15 15:45:39.212869  currTime = 2020-06-15 15:12:11.921707\n",
      "ok to make request (pageIndex = 88)\n",
      "nextAllowableTimeIndex = 9  nextAllowableTime = 2020-06-15 15:45:39.212869  currTime = 2020-06-15 15:12:11.921707\n",
      "ok to make request (pageIndex = 89)\n",
      "nextAllowableTimeIndex = 10  nextAllowableTime = 2020-06-15 15:45:39.228368  currTime = 2020-06-15 15:12:11.921707\n",
      "ok to make request (pageIndex = 90)\n",
      "nextAllowableTimeIndex = 11  nextAllowableTime = 2020-06-15 15:45:39.228368  currTime = 2020-06-15 15:12:11.921707\n",
      "ok to make request (pageIndex = 91)\n",
      "nextAllowableTimeIndex = 12  nextAllowableTime = 2020-06-15 15:45:39.228368  currTime = 2020-06-15 15:12:11.921707\n",
      "ok to make request (pageIndex = 92)\n",
      "nextAllowableTimeIndex = 13  nextAllowableTime = 2020-06-15 15:45:39.228368  currTime = 2020-06-15 15:12:11.921707\n",
      "ok to make request (pageIndex = 93)\n",
      "nextAllowableTimeIndex = 14  nextAllowableTime = 2020-06-15 15:45:39.228368  currTime = 2020-06-15 15:12:11.921707\n",
      "ok to make request (pageIndex = 94)\n",
      "nextAllowableTimeIndex = 15  nextAllowableTime = 2020-06-15 15:45:39.228368  currTime = 2020-06-15 15:12:11.921707\n",
      "ok to make request (pageIndex = 95)\n",
      "nextAllowableTimeIndex = 16  nextAllowableTime = 2020-06-15 15:45:39.228368  currTime = 2020-06-15 15:12:11.921707\n",
      "ok to make request (pageIndex = 96)\n",
      "nextAllowableTimeIndex = 17  nextAllowableTime = 2020-06-15 15:45:39.228368  currTime = 2020-06-15 15:12:11.921707\n",
      "ok to make request (pageIndex = 97)\n",
      "nextAllowableTimeIndex = 18  nextAllowableTime = 2020-06-15 15:45:39.228368  currTime = 2020-06-15 15:12:11.921707\n",
      "ok to make request (pageIndex = 98)\n",
      "nextAllowableTimeIndex = 19  nextAllowableTime = 2020-06-15 15:45:39.228368  currTime = 2020-06-15 15:12:11.921707\n",
      "ok to make request (pageIndex = 99)\n"
     ]
    }
   ],
   "source": [
    "initialNextTime = datetime.now() ## \"next time\" is initial request plus 60min\n",
    "nextAllowableTime = []\n",
    "temp_pagesPerHour = 20 ## will be = rate limit of 1000\n",
    "temp_pagecount = 100 ## will be = totalNum/rpp\n",
    "\n",
    "for index in range(0,temp_pagesPerHour):\n",
    "    nextAllowableTime.append(initialNextTime)\n",
    "\n",
    "for pageIndex in range (0,temp_pagecount):\n",
    "    nextAllowableTimeIndex = pageIndex % temp_pagesPerHour\n",
    "    currentTime = datetime.now()\n",
    "    print(\"nextAllowableTimeIndex = \" + str(nextAllowableTimeIndex) + \"  nextAllowableTime = \" + str(nextAllowableTime[nextAllowableTimeIndex]) + \"  currTime = \" + str(currTime))\n",
    "    \n",
    "    if currentTime < nextAllowableTime[nextAllowableTimeIndex]:\n",
    "        waitTime = nextAllowableTime[nextAllowableTimeIndex] - currentTime\n",
    "        print(\"sleeping \" + str(waitTime.total_seconds()) + \" seconds...\")\n",
    "        time.sleep(waitTime.total_seconds() + 1) \n",
    "    \n",
    "    if nextAllowableTime[nextAllowableTimeIndex] <= datetime.now():\n",
    "        print(\"ok to make request (pageIndex = \" + str(pageIndex) + \")\")\n",
    "        nextAllowableTime[nextAllowableTimeIndex] = datetime.now() + timedelta(seconds = 5)\n",
    "    else:\n",
    "        print(\"too soon. breaking.\")        \n",
    "        break;\n",
    "    \n",
    "        "
   ]
  },
  {
   "cell_type": "code",
   "execution_count": 8,
   "metadata": {},
   "outputs": [],
   "source": [
    "# Specify the path of the folder where the data are saved\n",
    "filePath = \"C:/Users/mark/Box Sync/_MF/Assignments/Insights/Public Commenting and COVID-19/Data/\"\n",
    "\n",
    "# general variables for setting parameters\n",
    "APIkey = \"fYTx9mVjuwc2ZSsdqmbgdtSqx7HGUd3aCRkiH6bC\"\n",
    "rpp = 1000\n",
    "pageIndex = 0\n",
    "po = pageIndex * rpp"
   ]
  },
  {
   "cell_type": "markdown",
   "metadata": {},
   "source": [
    "## Endpoint: documents"
   ]
  },
  {
   "cell_type": "code",
   "execution_count": 9,
   "metadata": {},
   "outputs": [],
   "source": [
    "# variables for setting parameters: document type = Public Submission\n",
    "baseURL_PS = \"https://api.data.gov/regulations/v3/documents.json?encoded=1&countsOnly=0&dct=PS&so=ASC&sb=postedDate\"\n",
    "pdStart = '01/01/20'\n",
    "pdEnd = '05/31/20'"
   ]
  },
  {
   "cell_type": "code",
   "execution_count": 10,
   "metadata": {},
   "outputs": [
    {
     "name": "stdout",
     "output_type": "stream",
     "text": [
      "Status Code: 200\n",
      "Request URL: https://api.data.gov/regulations/v3/documents.json?encoded=1&countsOnly=0&dct=PS&so=ASC&sb=postedDate&po=0&rpp=1000&api_key=fYTx9mVjuwc2ZSsdqmbgdtSqx7HGUd3aCRkiH6bC&pd=01%2F01%2F20-05%2F31%2F20\n",
      "\n",
      "Total number of records requested: 1368250\n",
      "Number retrieved: 1000\n",
      "\n",
      "Determine how many pages of records need to be combined via the extend method...\n",
      "Start with: 1369\n",
      "That would be enough to retrieve 1369000 records -- a margin of 750 records.\n"
     ]
    }
   ],
   "source": [
    "# set parameters to retrieve PS documents\n",
    "params = {'po': po,\n",
    "          'rpp': rpp,\n",
    "          'api_key': APIkey,\n",
    "          'pd': pdStart+'-'+pdEnd}\n",
    "\n",
    "# retrieve comments using Requests library and check GET request response \n",
    "dcts_response = requests.get(baseURL_PS, params=params)\n",
    "print(\"Status Code: \"+str(dcts_response.status_code),\n",
    "      'Request URL: '+str(dcts_response.request.url)+'\\n',sep='\\n')\n",
    "\n",
    "# nested list: separate 'documents' from 'totalNumRecords'\n",
    "# confirm total requested and number of documents retrieved\n",
    "numPS = dcts_response.json()['totalNumRecords']\n",
    "dctsPS = dcts_response.json()['documents']\n",
    "print('Total number of records requested: '+str(numPS), 'Number retrieved: '+str(len(dctsPS)), sep='\\n')\n",
    "\n",
    "# if requested == retrieved, then export as JSON\n",
    "if len(dctsPS)==numPS:\n",
    "    with open(filePath+'endpoint_documents_PS_'+pdStart+'-'+pdEnd+'.json', 'w', encoding='utf-8') as outfile:\n",
    "        json.dump(dctsPS, outfile, ensure_ascii=False, indent=4)    \n",
    "    print('Exported as JSON!')\n",
    "        \n",
    "else:\n",
    "    print('\\n''Determine how many pages of records need to be combined via the extend method...',\n",
    "          'Start with: '+str(numPS // rpp + 1),\n",
    "          'That would be enough to retrieve '+str(rpp * (numPS // rpp + 1))+' records'\n",
    "          ' -- a margin of '+str(rpp * (numPS // rpp + 1) - numPS)+' records.',sep='\\n')"
   ]
  },
  {
   "cell_type": "code",
   "execution_count": null,
   "metadata": {},
   "outputs": [],
   "source": [
    "%%time\n",
    "\n",
    "# define empty object to put extended data\n",
    "dctsPS_all = []\n",
    "totalNumPages = numPS//rpp + (1 if (numPS%rpp>0) else 0)\n",
    "totalNumPages=2 ## temp test\n",
    "print('Initial object length: '+str(len(dctsPS_all)))\n",
    "\n",
    "# retrieve additional pages of documents and extend object\n",
    "# when setting range, remember it's non-inclusive of the end\n",
    "for pageIndex in range (0,totalNumPages):\n",
    "    po = pageIndex * rpp\n",
    "    params.update({'po': po})\n",
    "    temp_response = requests.get(baseURL_PS, params=params)\n",
    "    if temp_response.status_code != 200:\n",
    "        print(temp_response.text)\n",
    "        break\n",
    "    data_this_page = temp_response.json()['documents']\n",
    "    dctsPS_all.extend(data_this_page)\n",
    "    #time.sleep(3.61)\n",
    "    if page%250 == 0: ##250\n",
    "        print('Retrieved: '+str(len(dctsPS_all)))\n",
    "\n",
    "print('If this works, we should have retrieved all the requested documents: '+str(len(dctsPS_all)))"
   ]
  },
  {
   "cell_type": "code",
   "execution_count": null,
   "metadata": {},
   "outputs": [],
   "source": [
    "t1 = 1*60+30\n",
    "c1 = 50000\n",
    "cx = numPS\n",
    "tx = t1*cx/c1\n",
    "\n",
    "print(str(round(tx))+' seconds')\n",
    "print(str(round(tx//60))+' minutes, '+str(round(tx%60))+' seconds')\n",
    "print(str(round(tx/60//60))+' hours, '+str(round(tx/60%60))+' minutes')"
   ]
  },
  {
   "cell_type": "code",
   "execution_count": null,
   "metadata": {
    "scrolled": true
   },
   "outputs": [],
   "source": [
    "dctsPS_all[1999]"
   ]
  },
  {
   "cell_type": "code",
   "execution_count": null,
   "metadata": {},
   "outputs": [],
   "source": []
  }
 ],
 "metadata": {
  "kernelspec": {
   "display_name": "Python 3",
   "language": "python",
   "name": "python3"
  },
  "language_info": {
   "codemirror_mode": {
    "name": "ipython",
    "version": 3
   },
   "file_extension": ".py",
   "mimetype": "text/x-python",
   "name": "python",
   "nbconvert_exporter": "python",
   "pygments_lexer": "ipython3",
   "version": "3.7.6"
  }
 },
 "nbformat": 4,
 "nbformat_minor": 4
}
