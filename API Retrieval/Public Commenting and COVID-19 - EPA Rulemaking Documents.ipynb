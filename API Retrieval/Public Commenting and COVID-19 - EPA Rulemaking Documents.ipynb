{
 "cells": [
  {
   "cell_type": "markdown",
   "metadata": {},
   "source": [
    "# EPA Rulemaking Documents"
   ]
  },
  {
   "cell_type": "code",
   "execution_count": null,
   "metadata": {},
   "outputs": [],
   "source": [
    "# import packages\n",
    "import pandas as pd\n",
    "import numpy as np\n",
    "import requests\n",
    "import urllib\n",
    "import json\n",
    "import time\n",
    "import os\n",
    "\n",
    "# datetime package too: https://docs.python.org/3/library/datetime.html\n",
    "from datetime import datetime\n",
    "from datetime import timedelta"
   ]
  },
  {
   "cell_type": "markdown",
   "metadata": {},
   "source": [
    "## API Retrieval"
   ]
  },
  {
   "cell_type": "markdown",
   "metadata": {},
   "source": [
    "### Agency Documents: Jan 2020 - June 2020"
   ]
  },
  {
   "cell_type": "code",
   "execution_count": null,
   "metadata": {},
   "outputs": [],
   "source": [
    "# create variables for setting parameters\n",
    "# document type = Notices, Proposed Rules, Final Rules, Other\n",
    "# Rulemaking dockets only\n",
    "# range: postedDate\n",
    "\n",
    "APIkey = \"INSERT_API_KEY\"\n",
    "rpp = 1000\n",
    "pageIndex = 0\n",
    "po = pageIndex * rpp\n",
    "agency = 'EPA'\n",
    "\n",
    "baseURL_rules = \"https://api.data.gov/regulations/v3/documents.json?encoded=1&countsOnly=0&dkt=R&so=ASC&sb=postedDate\"\n",
    "dct_N = 'N'\n",
    "dct_PR = 'PR'\n",
    "dct_FR = 'FR'\n",
    "dct_O = 'O'\n",
    "\n",
    "dateRangeStart = '01/01/20'\n",
    "dateRangeEnd = '06/30/20'\n",
    "\n",
    "# set parameters\n",
    "params = {'po': po,\n",
    "          'rpp': rpp,\n",
    "          'api_key': APIkey,\n",
    "          'pd': dateRangeStart+'-'+dateRangeEnd, \n",
    "          'dct': dct_N, \n",
    "          'a': agency}"
   ]
  },
  {
   "cell_type": "code",
   "execution_count": null,
   "metadata": {
    "scrolled": false
   },
   "outputs": [],
   "source": [
    "# ----- RETRIEVE DOCUMENTS ----- #\n",
    "# 1) Notices -------------------------------------------------------------------------------------------\n",
    "print('Retrieve Notices') ## e.g., agency information collection activities, EIS availability, etc.\n",
    "\n",
    "params.update({'dct': dct_N})\n",
    "\n",
    "# retrieve comments using Requests library and check GET request response \n",
    "dcts_response = requests.get(baseURL_rules, params=params)\n",
    "RL_remaining = int(dcts_response.headers['X-RateLimit-Remaining'])\n",
    "print(\"Status Code: \"+str(dcts_response.status_code),\n",
    "      'Request URL: '+str(dcts_response.request.url)+'\\n',sep='\\n')\n",
    "\n",
    "# nested list: separate 'documents' from 'totalNumRecords'\n",
    "# confirm total requested and number of documents retrieved\n",
    "numN = dcts_response.json()['totalNumRecords']\n",
    "dctsN = dcts_response.json()['documents']\n",
    "print('Total number of records requested: '+str(numN), 'Number retrieved: '+str(len(dctsN)), sep='\\n')\n",
    "\n",
    "# if requested == retrieved, then export as JSON\n",
    "if len(dctsN)==numN:\n",
    "    dataFile = 'EPA_endpoint_documents_N_2020Jan_2020Jun.json'\n",
    "    with open(filePath+dataFile, 'w', encoding='utf-8') as outfile:\n",
    "        json.dump(dctsN, outfile, ensure_ascii=False, indent=4)    \n",
    "    print('Document Type '+str(params['dct'])+' exported as JSON!')\n",
    "        \n",
    "else:\n",
    "    print('\\n''Determine how many pages of records need to be combined via the extend method...',\n",
    "          'Start with: '+str(numN // rpp + 1),\n",
    "          'That would be enough to retrieve '+str(rpp * (numN // rpp + 1))+' records'\n",
    "          ' -- a margin of '+str(rpp * (numN // rpp + 1) - numN)+' records.',sep='\\n')\n",
    "\n",
    "\n",
    "# 2) Proposed Rules -------------------------------------------------------------------------------------\n",
    "print('\\n','Retrieve Proposed Rules')\n",
    "\n",
    "# update parameters\n",
    "params.update({'dct': dct_PR})\n",
    "\n",
    "# retrieve comments using Requests library and check GET request response \n",
    "dcts_response = requests.get(baseURL_rules, params=params)\n",
    "RL_remaining = int(dcts_response.headers['X-RateLimit-Remaining'])\n",
    "print(\"Status Code: \"+str(dcts_response.status_code),\n",
    "      'Request URL: '+str(dcts_response.request.url)+'\\n',sep='\\n')\n",
    "\n",
    "# nested list: separate 'documents' from 'totalNumRecords'\n",
    "# confirm total requested and number of documents retrieved\n",
    "numPR = dcts_response.json()['totalNumRecords']\n",
    "dctsPR = dcts_response.json()['documents']\n",
    "print('Total number of records requested: '+str(numPR), 'Number retrieved: '+str(len(dctsPR)), sep='\\n')\n",
    "\n",
    "# if requested == retrieved, then export as JSON\n",
    "if len(dctsPR)==numPR:\n",
    "    dataFile = 'EPA_endpoint_documents_PR_2020Jan_2020Jun.json'\n",
    "    with open(filePath+dataFile, 'w', encoding='utf-8') as outfile:\n",
    "        json.dump(dctsPR, outfile, ensure_ascii=False, indent=4)    \n",
    "    print('Document Type '+str(params['dct'])+' exported as JSON!')\n",
    "        \n",
    "else:\n",
    "    print('\\n''Determine how many pages of records need to be combined via the extend method...',\n",
    "          'Start with: '+str(numPR // rpp + 1),\n",
    "          'That would be enough to retrieve '+str(rpp * (numPR // rpp + 1))+' records'\n",
    "          ' -- a margin of '+str(rpp * (numPR // rpp + 1) - numPR)+' records.',sep='\\n')\n",
    "\n",
    "\n",
    "# 3) Final Rules ---------------------------------------------------------------------------------------\n",
    "print('\\n','Retrieve Final Rules')\n",
    "\n",
    "# update parameters\n",
    "params.update({'dct': dct_FR})\n",
    "\n",
    "# retrieve comments using Requests library and check GET request response \n",
    "dcts_response = requests.get(baseURL_rules, params=params)\n",
    "RL_remaining = int(dcts_response.headers['X-RateLimit-Remaining'])\n",
    "print(\"Status Code: \"+str(dcts_response.status_code),\n",
    "      'Request URL: '+str(dcts_response.request.url)+'\\n',sep='\\n')\n",
    "\n",
    "# nested list: separate 'documents' from 'totalNumRecords'\n",
    "# confirm total requested and number of documents retrieved\n",
    "numFR = dcts_response.json()['totalNumRecords']\n",
    "dctsFR = dcts_response.json()['documents']\n",
    "print('Total number of records requested: '+str(numFR), 'Number retrieved: '+str(len(dctsFR)), sep='\\n')\n",
    "\n",
    "# if requested == retrieved, then export as JSON\n",
    "if len(dctsFR)==numFR:\n",
    "    dataFile = 'EPA_endpoint_documents_FR_2020Jan_2020Jun.json'\n",
    "    with open(filePath+dataFile, 'w', encoding='utf-8') as outfile:\n",
    "        json.dump(dctsFR, outfile, ensure_ascii=False, indent=4)    \n",
    "    print('Document Type '+str(params['dct'])+' exported as JSON!')\n",
    "        \n",
    "else:\n",
    "    print('\\n''Determine how many pages of records need to be combined via the extend method...',\n",
    "          'Start with: '+str(numFR // rpp + 1),\n",
    "          'That would be enough to retrieve '+str(rpp * (numFR // rpp + 1))+' records'\n",
    "          ' -- a margin of '+str(rpp * (numFR // rpp + 1) - numFR)+' records.',sep='\\n')\n",
    "\n",
    "\n",
    "# 4) Other -----------------------------------------------------------------------------------------\n",
    "print('\\n','Retrieve Other documents') ## e.g., comment extension letter, pesticide registration review, etc.\n",
    "\n",
    "# update parameters\n",
    "params.update({'dct': dct_O})\n",
    "\n",
    "# retrieve comments using Requests library and check GET request response \n",
    "dcts_response = requests.get(baseURL_rules, params=params)\n",
    "RL_remaining = int(dcts_response.headers['X-RateLimit-Remaining'])\n",
    "print(\"Status Code: \"+str(dcts_response.status_code),\n",
    "      'Request URL: '+str(dcts_response.request.url)+'\\n',sep='\\n')\n",
    "\n",
    "# nested list: separate 'documents' from 'totalNumRecords'\n",
    "# confirm total requested and number of documents retrieved\n",
    "numO = dcts_response.json()['totalNumRecords']\n",
    "dctsO = dcts_response.json()['documents']\n",
    "print('Total number of records requested: '+str(numO), 'Number retrieved: '+str(len(dctsO)), sep='\\n')\n",
    "\n",
    "# if requested == retrieved, then export as JSON\n",
    "if len(dctsO)==numO:\n",
    "    dataFile = 'EPA_endpoint_documents_O_2020Jan_2020Jun.json'\n",
    "    with open(filePath+dataFile, 'w', encoding='utf-8') as outfile:\n",
    "        json.dump(dctsO, outfile, ensure_ascii=False, indent=4)    \n",
    "    print('Document Type '+str(params['dct'])+' exported as JSON!')\n",
    "        \n",
    "else:\n",
    "    print('\\n''Determine how many pages of records need to be combined via the extend method...',\n",
    "          'Start with: '+str(numO // rpp + 1),\n",
    "          'That would be enough to retrieve '+str(rpp * (numO // rpp + 1))+' records'\n",
    "          ' -- a margin of '+str(rpp * (numO // rpp + 1) - numO)+' records.',sep='\\n')"
   ]
  },
  {
   "cell_type": "code",
   "execution_count": null,
   "metadata": {},
   "outputs": [],
   "source": [
    "# combine individual JSON files into extended object\n",
    "dctType_list = ['N', 'PR', 'FR', 'O']\n",
    "\n",
    "dctsType_all = []\n",
    "print('Initial length of object: '+str(len(dctsType_all)))\n",
    "\n",
    "for dctType in dctType_list:\n",
    "    print(dctType)\n",
    "    with open(filePath+'EPA_endpoint_documents_'+dctType+'_2020Jan_2020Jun.json', 'r', encoding='utf-8') as jf:\n",
    "        dctsChunk = json.load(jf)\n",
    "        dctsType_all.extend(dctsChunk)\n",
    "        print('Current length of object: '+str(len(dctsType_all)))\n",
    "\n",
    "# total number of agency documents (excluding public submissions)\n",
    "numAll_Agency = numN+numPR+numFR+numO\n",
    "\n",
    "print('Final length of object: '+str(len(dctsType_all)),\n",
    "      'Should equal: '+str(numAll_Agency), sep='\\n')\n",
    "\n",
    "# if requested == retrieved, then export as JSON\n",
    "if len(dctsType_all)==(numAll_Agency):\n",
    "    dataFile = 'EPA_endpoint_documents_AGENCYDCTS_2020Jan_2020Jun.json'\n",
    "    with open(filePath+dataFile, 'w', encoding='utf-8') as outfile:\n",
    "        json.dump(dctsType_all, outfile, ensure_ascii=False, indent=4)\n",
    "    print('Exported as JSON!')\n",
    "else:\n",
    "    print('Export unsuccessful. Check your code.')"
   ]
  },
  {
   "cell_type": "code",
   "execution_count": null,
   "metadata": {},
   "outputs": [],
   "source": [
    "# convert to pandas DataFrame\n",
    "df2020AgencyDcts = pd.DataFrame(dctsType_all)\n",
    "df2020AgencyDcts.info()"
   ]
  },
  {
   "cell_type": "code",
   "execution_count": null,
   "metadata": {},
   "outputs": [],
   "source": [
    "# create column with document URL \n",
    "df2020AgencyDcts['documentURL'] = \"https://www.regulations.gov/document?D=\"\n",
    "df2020AgencyDcts.loc[:,'documentURL'] = df2020AgencyDcts['documentURL']+df2020AgencyDcts['documentId']\n",
    "print(df2020AgencyDcts.loc[0,'documentURL'], \n",
    "      df2020AgencyDcts.loc[1,'documentURL'], sep='\\n')"
   ]
  },
  {
   "cell_type": "code",
   "execution_count": null,
   "metadata": {},
   "outputs": [],
   "source": [
    "dfColumns = df2020AgencyDcts.columns.tolist()\n",
    "print(dfColumns)"
   ]
  },
  {
   "cell_type": "code",
   "execution_count": null,
   "metadata": {},
   "outputs": [],
   "source": [
    "write_columns = ['agencyAcronym','docketId','docketType','rin',\n",
    "                 'documentId','documentType','frNumber','commentDueDate','commentStartDate','openForComment',\n",
    "                 'numberOfCommentsReceived','postedDate',\n",
    "                 'title','attachmentCount','documentURL']\n",
    "\n",
    "savePath = 'DESIGNATE_FILE_PATH'\n",
    "saveFile = 'EPA_endpoint_documents_AGENCYDCTS_2020.csv'\n",
    "\n",
    "# write to csv, reference: https://pandas.pydata.org/docs/reference/api/pandas.DataFrame.to_csv.html\n",
    "with open(savePath+saveFile, 'w', encoding='utf-8') as outfile:\n",
    "    df2020AgencyDcts.to_csv(outfile, index_label='index', line_terminator='\\n', columns=write_columns)\n",
    "\n",
    "print('Saved as CSV!')"
   ]
  },
  {
   "cell_type": "markdown",
   "metadata": {},
   "source": [
    "## Analyze Comment Periods Extensions"
   ]
  },
  {
   "cell_type": "code",
   "execution_count": null,
   "metadata": {},
   "outputs": [],
   "source": [
    "# load CSV of Agency Documents data\n",
    "savePath = 'DESIGNATE_FILE_PATH'\n",
    "fileName = 'EPA_endpoint_documents_AGENCYDCTS_2020.csv'\n",
    "\n",
    "with open(savePath+fileName,'r',encoding='utf-8') as loadfile:\n",
    "    dfAgencyDcts = pd.read_csv(loadfile, index_col='index')\n",
    "dfAgencyDcts.info()"
   ]
  },
  {
   "cell_type": "code",
   "execution_count": null,
   "metadata": {},
   "outputs": [],
   "source": [
    "# create bool array for rules with extension in title\n",
    "    # reference for regex: https://docs.python.org/3/howto/regex.html\n",
    "bool_extension = dfAgencyDcts.loc[:,'title'].str.contains('extension of comment|period extension', regex=True, case=False)\n",
    "print(bool_extension.value_counts(),'\\n')\n",
    "\n",
    "dfExtension = dfAgencyDcts[bool_extension]\n",
    "dfExtension.loc[:,['title','docketId','commentDueDate','documentURL']]"
   ]
  },
  {
   "cell_type": "code",
   "execution_count": null,
   "metadata": {
    "scrolled": true
   },
   "outputs": [],
   "source": [
    "# manually check entries that were returned by the keyword search\n",
    "extensionList = dfExtension.index.tolist()\n",
    "\n",
    "for dct in extensionList:\n",
    "    print(dct,' -- ',dfExtension.loc[dct,'title'],' -- ',\n",
    "          dfExtension.loc[dct,'documentURL'],'\\n')\n",
    "print('Done.')"
   ]
  }
 ],
 "metadata": {
  "kernelspec": {
   "display_name": "Python 3",
   "language": "python",
   "name": "python3"
  },
  "language_info": {
   "codemirror_mode": {
    "name": "ipython",
    "version": 3
   },
   "file_extension": ".py",
   "mimetype": "text/x-python",
   "name": "python",
   "nbconvert_exporter": "python",
   "pygments_lexer": "ipython3",
   "version": "3.8.3"
  }
 },
 "nbformat": 4,
 "nbformat_minor": 4
}
