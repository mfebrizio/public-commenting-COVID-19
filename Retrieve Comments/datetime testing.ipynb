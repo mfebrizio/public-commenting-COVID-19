{
 "cells": [
  {
   "cell_type": "markdown",
   "metadata": {},
   "source": [
    "# Louis tests"
   ]
  },
  {
   "cell_type": "code",
   "execution_count": null,
   "metadata": {},
   "outputs": [],
   "source": [
    "##Louis Tests\n",
    "from datetime import datetime\n",
    "\n",
    "now = datetime.now()\n",
    "print(\"recorded time is \" + str(now))\n",
    "\n",
    "timeIndices = []\n",
    "totalIndices = 5\n",
    "for index in range(0,5):\n",
    "    timeIndices.append(now)\n",
    "\n",
    "    \n",
    "from datetime import timedelta\n",
    "later = now + timedelta(seconds = 5)\n",
    "print(\"later time is \" + str(later))"
   ]
  },
  {
   "cell_type": "code",
   "execution_count": null,
   "metadata": {},
   "outputs": [],
   "source": [
    "while True:\n",
    "    currTime = datetime.now()\n",
    "    if (currTime < later):\n",
    "        print(\"not yet\")\n",
    "        time.sleep(1)\n",
    "    else:\n",
    "        print(\"finally waited long enough\")\n",
    "        break;"
   ]
  },
  {
   "cell_type": "code",
   "execution_count": null,
   "metadata": {},
   "outputs": [],
   "source": [
    "initialNextTime = datetime.now() ## \"next time\" is initial request plus 60min\n",
    "nextAllowableTime = []\n",
    "temp_pagesPerHour = 20 ## will be = rate limit of 1000\n",
    "temp_pagecount = 100 ## will be = totalNum/rpp\n",
    "\n",
    "for index in range(0,temp_pagesPerHour):\n",
    "    nextAllowableTime.append(initialNextTime)\n",
    "\n",
    "for pageIndex in range (0,temp_pagecount):\n",
    "    nextAllowableTimeIndex = pageIndex % temp_pagesPerHour\n",
    "    currentTime = datetime.now()\n",
    "    print(\"nextAllowableTimeIndex = \" + str(nextAllowableTimeIndex) + \"  nextAllowableTime = \" + str(nextAllowableTime[nextAllowableTimeIndex]) + \"  currTime = \" + str(currTime))\n",
    "    \n",
    "    if currentTime < nextAllowableTime[nextAllowableTimeIndex]:\n",
    "        waitTime = nextAllowableTime[nextAllowableTimeIndex] - currentTime\n",
    "        print(\"sleeping \" + str(waitTime.total_seconds()) + \" seconds...\")\n",
    "        time.sleep(waitTime.total_seconds() + 1) \n",
    "    \n",
    "    if nextAllowableTime[nextAllowableTimeIndex] <= datetime.now():\n",
    "        print(\"ok to make request (pageIndex = \" + str(pageIndex) + \")\")\n",
    "        nextAllowableTime[nextAllowableTimeIndex] = datetime.now() + timedelta(seconds = 5)\n",
    "    else:\n",
    "        print(\"too soon. breaking.\")        \n",
    "        break;"
   ]
  },
  {
   "cell_type": "code",
   "execution_count": null,
   "metadata": {},
   "outputs": [],
   "source": []
  },
  {
   "cell_type": "markdown",
   "metadata": {},
   "source": [
    "# Mark tests"
   ]
  },
  {
   "cell_type": "code",
   "execution_count": 1,
   "metadata": {},
   "outputs": [],
   "source": [
    "from datetime import datetime\n",
    "from datetime import timedelta"
   ]
  },
  {
   "cell_type": "code",
   "execution_count": 14,
   "metadata": {},
   "outputs": [
    {
     "name": "stdout",
     "output_type": "stream",
     "text": [
      "Time array length: 1000\n"
     ]
    }
   ],
   "source": [
    "# define time objects for avoiding rate limit\n",
    "nextTime = datetime.now()\n",
    "allowableTimes = []\n",
    "page_hour = 1000 ## regulations.gov rate limit of 1000\n",
    "\n",
    "# fill array of allowable times\n",
    "for x in range(0,page_hour):\n",
    "    allowableTimes.append(nextTime + timedelta(seconds=(x*3600/page_hour)))\n",
    "print('Time array length: '+str(len(allowableTimes)))"
   ]
  },
  {
   "cell_type": "code",
   "execution_count": 15,
   "metadata": {},
   "outputs": [
    {
     "name": "stdout",
     "output_type": "stream",
     "text": [
      "2020-06-16 20:37:08.678828\n",
      "2020-06-16 21:37:05.078828\n"
     ]
    }
   ],
   "source": [
    "print(allowableTimes[0])\n",
    "print(allowableTimes[999])"
   ]
  },
  {
   "cell_type": "code",
   "execution_count": 18,
   "metadata": {},
   "outputs": [],
   "source": [
    "test = 100"
   ]
  },
  {
   "cell_type": "code",
   "execution_count": 24,
   "metadata": {},
   "outputs": [
    {
     "name": "stdout",
     "output_type": "stream",
     "text": [
      "yep\n"
     ]
    }
   ],
   "source": [
    "if (test==100) & (test%25==0):\n",
    "    print('yep')\n",
    "else:\n",
    "    print('no')"
   ]
  },
  {
   "cell_type": "code",
   "execution_count": 27,
   "metadata": {
    "scrolled": true
   },
   "outputs": [
    {
     "data": {
      "text/plain": [
       "1"
      ]
     },
     "execution_count": 27,
     "metadata": {},
     "output_type": "execute_result"
    }
   ],
   "source": [
    "76%25"
   ]
  },
  {
   "cell_type": "code",
   "execution_count": null,
   "metadata": {},
   "outputs": [],
   "source": []
  }
 ],
 "metadata": {
  "kernelspec": {
   "display_name": "Python 3",
   "language": "python",
   "name": "python3"
  },
  "language_info": {
   "codemirror_mode": {
    "name": "ipython",
    "version": 3
   },
   "file_extension": ".py",
   "mimetype": "text/x-python",
   "name": "python",
   "nbconvert_exporter": "python",
   "pygments_lexer": "ipython3",
   "version": "3.7.6"
  }
 },
 "nbformat": 4,
 "nbformat_minor": 4
}
